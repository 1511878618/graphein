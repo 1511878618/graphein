{
 "cells": [
  {
   "cell_type": "markdown",
   "id": "304a2a9d-f762-491c-ac19-e97ef636c027",
   "metadata": {},
   "source": [
    "# Constructing Graphs from [AlphaFold Protein Structure Database](https://alphafold.ebi.ac.uk/)\n",
    "\n",
    "In this quick tutorial we show how to construct graphs from the AlphaFold Protein Structure Database. This is a fantastic resource for the community and we hope to make it more accessible to the Geometric Deep Learning community!\n",
    "\n",
    "We provide a utility `graphein.protein.utils.download_alphafold_structure()` to download PDBs and associated metadata (aligned error scores as an accompanying `JSON` file). After downloading the structure, simply use Graphein to compute the graph as you normally would. You can check out the `residue_graphs.ipynb` notebook tutorial to go deeper into protein graph construction utilities in Graphein."
   ]
  },
  {
   "cell_type": "code",
   "execution_count": null,
   "id": "a12d012b-b6f0-49e1-bfe4-c0d4fc1de3e5",
   "metadata": {},
   "outputs": [],
   "source": [
    "%matplotlib widget\n",
    "import matplotlib.pyplot as plt\n",
    "\n",
    "from graphein.protein.graphs import construct_graph\n",
    "from graphein.protein.config import ProteinGraphConfig\n",
    "\n",
    "from graphein.protein.utils import download_alphafold_structure"
   ]
  },
  {
   "cell_type": "code",
   "execution_count": null,
   "id": "5e0f8610-d31a-4380-b20d-17e719b9d83d",
   "metadata": {},
   "outputs": [],
   "source": [
    "# Download the PDB file for an exmaple protein (UniProt: Q8W3K0) without the aligned score\n",
    "protein_path = download_alphafold_structure(\"Q8W3K0\", out_dir=\"/tmp\", aligned_score=False)\n",
    "protein_path"
   ]
  },
  {
   "cell_type": "code",
   "execution_count": null,
   "id": "411a8940-0bee-4306-a2e4-8dd8c58f2024",
   "metadata": {},
   "outputs": [],
   "source": [
    "# Download the PDB file for an exmaple protein (UniProt: Q8W3K0) with the aligned score\n",
    "protein_path = download_alphafold_structure(\"Q8W3K0\", out_dir = \"/tmp\", aligned_score=True)\n",
    "protein_path"
   ]
  },
  {
   "cell_type": "code",
   "execution_count": null,
   "id": "a4dff4f4-0ba2-40a4-b0bf-458bbe2aa17d",
   "metadata": {},
   "outputs": [],
   "source": [
    "# Load the default config\n",
    "c = ProteinGraphConfig(granularity='CA')\n",
    "\n",
    "# Construct the graph!\n",
    "g = construct_graph(pdb_path=protein[0])"
   ]
  },
  {
   "cell_type": "code",
   "execution_count": null,
   "id": "19067deb-f7c1-491f-a196-0b7a3ec9a2e6",
   "metadata": {},
   "outputs": [],
   "source": [
    "from graphein.protein.visualisation import plot_protein_structure_graph\n",
    "\n",
    "plot_protein_structure_graph(g, angle=30, colour_edges_by=\"kind\", colour_nodes_by=\"degree\", label_node_ids=False)"
   ]
  }
 ],
 "metadata": {
  "kernelspec": {
   "display_name": "graphein-dev",
   "language": "python",
   "name": "graphein-dev"
  },
  "language_info": {
   "codemirror_mode": {
    "name": "ipython",
    "version": 3
   },
   "file_extension": ".py",
   "mimetype": "text/x-python",
   "name": "python",
   "nbconvert_exporter": "python",
   "pygments_lexer": "ipython3",
   "version": "3.8.10"
  }
 },
 "nbformat": 4,
 "nbformat_minor": 5
}
