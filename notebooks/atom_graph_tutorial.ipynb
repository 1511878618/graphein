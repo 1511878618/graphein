{
 "cells": [
  {
   "cell_type": "code",
   "execution_count": null,
   "metadata": {},
   "outputs": [],
   "source": [
    "%matplotlib widget\n",
    "import logging\n",
    "logging.basicConfig(level=\"INFO\")"
   ]
  },
  {
   "cell_type": "markdown",
   "metadata": {},
   "source": [
    "# Graphein - Atom Graph Tutorial\n",
    "\n",
    "In this notebook, we'll run through residue-level graph construction in Graphein. We start by discsussing the config, the high-level API and spend the bulk of the tutorial running through the low-level API"
   ]
  },
  {
   "cell_type": "code",
   "execution_count": null,
   "metadata": {},
   "outputs": [],
   "source": [
    "from graphein.protein.config import ProteinGraphConfig\n",
    "\n",
    "config = ProteinGraphConfig()\n",
    "config.dict()"
   ]
  },
  {
   "cell_type": "markdown",
   "metadata": {},
   "source": [
    "Let's run through the config:\n",
    "\n",
    "* `granularity`: specifies the granularity of the graph (i.e. what should the nodes be). Possible values are: atom identifiers (e.g. `\"CA\"` for $\\alpha$ carbon, `\"CB\"` for $\\beta$ carbon), `\"centroid\"` to use residue centroids (under the hood, this is the same as \"CA\", but we use the average x,y,z coordinates for the atoms in the residue) or `\"atom\"` for atom-level construction. This is discussed here.\n",
    "* `keep_hets`: this is a boolean specifying whether or not to keep heteroatoms present in the .pdb file. Heteroatoms are typically non-protein atoms (waters, metal ions, ligands) but can sometimes contain non-standard or modified residues.\n",
    "* `insertions`: boolean specifying whether or not to keep insertions in the PDB file\n",
    "* `pdb_dir` optional path to a folder in which to save pdb files. Otherwise, `/tmp/` will be used\n",
    "* `verbose`: bool controlling amount of info printed\n",
    "* `exclude_waters`: not implemented\n",
    "* `deprotonate`: bool indicating whether or not to remove Hydrogen atoms\n",
    "* `protein_df_processing_functions`: list of functions with which to process the PDB dataframe. Discussed in the low-level API.\n",
    "* `edge_construction_functions`: list of functions to compute edges with\n",
    "* `node_metadata_functions`: list of functions to annotate nodes with\n",
    "* `edge_metadata_functions`: list of functions to annotate edges with\n",
    "* `graph_meta_functions`: list of functions to annotate graph with\n",
    "* `get_contacts_config`: A separate config object if using GetContacts edge construction functions"
   ]
  },
  {
   "cell_type": "code",
   "execution_count": null,
   "metadata": {},
   "outputs": [],
   "source": [
    "from graphein.protein.edges.atomic import add_atomic_edges\n",
    "params_to_change = {\"granularity\": \"atom\", \"edge_construction_functions\": [add_atomic_edges]}\n",
    "\n",
    "config = ProteinGraphConfig(**params_to_change)\n",
    "config.dict()"
   ]
  },
  {
   "cell_type": "markdown",
   "metadata": {},
   "source": [
    "## High-level API\n",
    "Graphein features a high-level API which should be applicable for most simple graph constructions. This can be used on either a .pdb file (so you can run whatever pre-processing you wish), or we can provide a PDB accession code and retrieve a structure from the PDB itself. If a path is provided, it takes precedence over the PDB code.\n",
    "\n",
    "To use it we do as follows:"
   ]
  },
  {
   "cell_type": "code",
   "execution_count": null,
   "metadata": {},
   "outputs": [],
   "source": [
    "from graphein.protein.graphs import construct_graph\n",
    "\n",
    "g = construct_graph(config=config, pdb_code=\"3eiy\")\n",
    "g = construct_graph(config=config, pdb_path=\"../examples/pdbs/3eiy.pdb\")"
   ]
  },
  {
   "cell_type": "code",
   "execution_count": null,
   "metadata": {},
   "outputs": [],
   "source": [
    "from graphein.protein.visualisation import plot_protein_structure_graph\n",
    "\n",
    "p = plot_protein_structure_graph(G=g, angle=0, colour_edges_by=\"kind\", colour_nodes_by=\"element_symbol\", label_node_ids=False, node_size_min=2, node_alpha=0.5)"
   ]
  },
  {
   "cell_type": "markdown",
   "metadata": {},
   "source": [
    "As you can see, all the bond types are the same. In order to add bond order assignment, we need to pass the `add_bond_order` function to the list of edge functions. We do the same for assigning ring status with `add_ring_status`"
   ]
  },
  {
   "cell_type": "code",
   "execution_count": null,
   "metadata": {},
   "outputs": [],
   "source": [
    "from graphein.protein.edges.atomic import add_atomic_edges, add_bond_order, add_ring_status\n",
    "params_to_change = {\"granularity\": \"atom\", \"edge_construction_functions\": [add_atomic_edges, add_bond_order, add_ring_status]}\n",
    "\n",
    "config = ProteinGraphConfig(**params_to_change)\n",
    "g = construct_graph(config=config, pdb_code=\"3eiy\")\n",
    "p = plot_protein_structure_graph(G=g, angle=0, colour_edges_by=\"kind\", colour_nodes_by=\"element_symbol\", label_node_ids=False, node_size_min=2, node_alpha=0.5)\n",
    "\n",
    "# Print some edges to verify\n",
    "for i, (u, v, a) in enumerate(g.edges(data=True)):\n",
    "    if i % 30 == 0:\n",
    "        print(u, v, a)"
   ]
  },
  {
   "cell_type": "markdown",
   "metadata": {},
   "source": [
    "We can also include some of the distance-based functions we used in the residue graph construction. Here we add the residue-level delaunay triangulation to the graph."
   ]
  },
  {
   "cell_type": "code",
   "execution_count": null,
   "metadata": {},
   "outputs": [],
   "source": [
    "from graphein.protein.edges.distance import add_delaunay_triangulation\n",
    "params_to_change = {\"granularity\": \"atom\", \"edge_construction_functions\": [add_atomic_edges, add_bond_order, add_delaunay_triangulation]}\n",
    "\n",
    "config = ProteinGraphConfig(**params_to_change)\n",
    "g = construct_graph(config=config, pdb_code=\"3eiy\")\n",
    "p = plot_protein_structure_graph(G=g, angle=0, colour_edges_by=\"kind\", colour_nodes_by=\"element_symbol\", label_node_ids=False, node_size_min=2, node_alpha=0.5)"
   ]
  }
 ],
 "metadata": {
  "kernelspec": {
   "display_name": "graphein_dev",
   "language": "python",
   "name": "graphein_dev"
  },
  "language_info": {
   "codemirror_mode": {
    "name": "ipython",
    "version": 3
   },
   "file_extension": ".py",
   "mimetype": "text/x-python",
   "name": "python",
   "nbconvert_exporter": "python",
   "pygments_lexer": "ipython3",
   "version": "3.7.9"
  }
 },
 "nbformat": 4,
 "nbformat_minor": 4
}
