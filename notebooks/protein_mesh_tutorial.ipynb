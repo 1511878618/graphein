{
 "cells": [
  {
   "cell_type": "code",
   "execution_count": null,
   "metadata": {},
   "outputs": [],
   "source": [
    "%matplotlib widget\n",
    "import logging\n",
    "logging.basicConfig(level=\"INFO\")"
   ]
  },
  {
   "cell_type": "markdown",
   "metadata": {},
   "source": [
    "# Creating Protein Meshes in Graphein\n",
    "\n",
    "Graphein provides functionality to create meshes of protein surfaces. The mesh computation is handled under the hood by PyMol to produce `.obj` files, which are handled by many geometric analysis libraries (such as PyTorch3D). We'll create a few protein meshes, convert them to PyTorch3D objects and visualises them. Again, there is a high-level and low-level API for convenience.\n",
    "\n",
    "## High-level API\n",
    "### Config\n",
    "Again, we use a config object to manage global configurations.\n",
    "\n",
    "* `pymol_command_line_options`: String of additional pymol command line options when launching. A full list can be found [here](https://www.pymolwiki.org/index.php/Command_Line_Options). The default options, `\"-cKq\"`, do:\n",
    "   * `c`: launch in command-line only mode for batch processing\n",
    "   * `K`: keep alive: when running without a GUI, don't quit after the input\n",
    "            is exhausted\n",
    "    * `q`: supress startup message \n",
    "    \n",
    "* `pymol_commands` : List of string pymol commands to execute. You can use these to configure the exact mesh you wish to construct. A reference to these can be found [here](https://pymol.org/pymol-command-ref.html)"
   ]
  },
  {
   "cell_type": "code",
   "execution_count": null,
   "metadata": {},
   "outputs": [],
   "source": [
    "from graphein.protein.config import ProteinMeshConfig\n",
    "config = ProteinMeshConfig()\n",
    "config.dict()"
   ]
  },
  {
   "cell_type": "markdown",
   "metadata": {},
   "source": [
    "### Building a mesh"
   ]
  },
  {
   "cell_type": "markdown",
   "metadata": {},
   "source": [
    "Let's build a mesh!"
   ]
  },
  {
   "cell_type": "code",
   "execution_count": null,
   "metadata": {},
   "outputs": [],
   "source": [
    "from graphein.protein.meshes import create_mesh\n",
    "\n",
    "verts, faces, aux = create_mesh(pdb_code=\"3eiy\", config=config)\n",
    "print(verts, faces, aux)"
   ]
  },
  {
   "cell_type": "markdown",
   "metadata": {},
   "source": [
    "In order to visualise these tensors containing vertices, faces and aux data, we convert them into a PyTorch3D `Mesh` object"
   ]
  },
  {
   "cell_type": "code",
   "execution_count": null,
   "metadata": {},
   "outputs": [],
   "source": [
    "from graphein.protein.meshes import convert_verts_and_face_to_mesh\n",
    "m = convert_verts_and_face_to_mesh(verts, faces)\n",
    "\n",
    "from graphein.protein.visualisation import plot_pointcloud\n",
    "plot_pointcloud(m, title=\"my first mesh\")\n"
   ]
  },
  {
   "cell_type": "markdown",
   "metadata": {},
   "source": [
    "Let's see what happens if we play around with some of the parameters and make a smoother mesh"
   ]
  },
  {
   "cell_type": "code",
   "execution_count": null,
   "metadata": {},
   "outputs": [],
   "source": [
    "pymol_commands = {\"pymol_commands\": [\"hide cartoon\",\n",
    "                                     \"set solvent_radius, 4\",\n",
    "                                     \"alter all, vdw=4\",\n",
    "                                     \"sort\",\n",
    "                                     \"set surface_quality, 1\",\n",
    "                                     \"show surface\"]}\n",
    "\n",
    "config = ProteinMeshConfig(**pymol_commands)\n",
    "\n",
    "verts, faces, aux = create_mesh(pdb_code=\"3eiy\", config=config)\n",
    "\n",
    "m = convert_verts_and_face_to_mesh(verts, faces)\n",
    "\n",
    "plot_pointcloud(m, title=\"my second mesh\")"
   ]
  },
  {
   "cell_type": "code",
   "execution_count": null,
   "metadata": {},
   "outputs": [],
   "source": []
  }
 ],
 "metadata": {
  "kernelspec": {
   "display_name": "graphein_dev",
   "language": "python",
   "name": "graphein_dev"
  },
  "language_info": {
   "codemirror_mode": {
    "name": "ipython",
    "version": 3
   },
   "file_extension": ".py",
   "mimetype": "text/x-python",
   "name": "python",
   "nbconvert_exporter": "python",
   "pygments_lexer": "ipython3",
   "version": "3.7.9"
  }
 },
 "nbformat": 4,
 "nbformat_minor": 4
}
