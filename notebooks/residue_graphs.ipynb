{
 "cells": [
  {
   "cell_type": "code",
   "execution_count": null,
   "metadata": {},
   "outputs": [],
   "source": [
    "%matplotlib widget\n",
    "import logging\n",
    "import matplotlib.pyplot as plt\n",
    "logging.basicConfig(level=\"INFO\")"
   ]
  },
  {
   "cell_type": "markdown",
   "metadata": {},
   "source": [
    "# Graphein - Residue Graph Tutorial\n",
    "\n",
    "In this notebook, we'll run through residue-level graph construction in Graphein. We start by discsussing the config, the high-level API and spend the bulk of the tutorial running through the low-level API"
   ]
  },
  {
   "cell_type": "markdown",
   "metadata": {},
   "source": [
    "## Config\n",
    "Graphein is designed for processing datasets of protein structures into graphs. We rely on a global config object to store various parameters in the high-level API. We use `pydantic` for the config object and provide sane defaults."
   ]
  },
  {
   "cell_type": "code",
   "execution_count": null,
   "metadata": {},
   "outputs": [],
   "source": [
    "from graphein.protein.config import ProteinGraphConfig\n",
    "\n",
    "config = ProteinGraphConfig()\n",
    "config.dict()"
   ]
  },
  {
   "cell_type": "markdown",
   "metadata": {},
   "source": [
    "Let's run through the config:\n",
    "\n",
    "* `granularity`: specifies the granularity of the graph (i.e. what should the nodes be). Possible values are: atom identifiers (e.g. `\"CA\"` for $\\alpha$ carbon, `\"CB\"` for $\\beta$ carbon), `\"centroid\"` to use residue centroids (under the hood, this is the same as \"CA\", but we use the average x,y,z coordinates for the atoms in the residue) or \"atom\" for atom-level construction. This is discussed in another notebook.\n",
    "* `keep_hets`: this is a boolean specifying whether or not to keep heteroatoms present in the .pdb file. Heteroatoms are typically non-protein atoms (waters, metal ions, ligands) but can sometimes contain non-standard or modified residues.\n",
    "* `insertions`: boolean specifying whether or not to keep insertions in the PDB file\n",
    "* `pdb_dir` optional path to a folder in which to save pdb files. Otherwise, `/tmp/` will be used\n",
    "* `verbose`: bool controlling amount of info printed\n",
    "* `exclude_waters`: not implemented\n",
    "* `deprotonate`: bool indicating whether or not to remove Hydrogen atoms\n",
    "* `protein_df_processing_functions`: list of functions with which to process the PDB dataframe. Discussed in the low-level API.\n",
    "* `edge_construction_functions`: list of functions to compute edges with\n",
    "* `node_metadata_functions`: list of functions to annotate nodes with\n",
    "* `edge_metadata_functions`: list of functions to annotate edges with\n",
    "* `graph_meta_functions`: list of functions to annotate graph with\n",
    "* `get_contacts_config`: A separate config object if using GetContacts edge construction functions"
   ]
  },
  {
   "cell_type": "markdown",
   "metadata": {},
   "source": [
    "If you wish, you can construct an entirely fresh configuration. Or, if we wish to change only some of these parameters, we can pass a dictionary containing our modifications:"
   ]
  },
  {
   "cell_type": "code",
   "execution_count": null,
   "metadata": {},
   "outputs": [],
   "source": [
    "params_to_change = {\"granularity\": \"centroids\"}\n",
    "\n",
    "config = ProteinGraphConfig(**params_to_change)\n",
    "config.dict()"
   ]
  },
  {
   "cell_type": "markdown",
   "metadata": {},
   "source": [
    "## High-level API\n",
    "Graphein features a high-level API which should be applicable for most simple graph constructions. This can be used on either a .pdb file (so you can run whatever pre-processing you wish), or we can provide a PDB accession code and retrieve a structure from the PDB itself. If a path is provided, it takes precedence over the PDB code.\n",
    "\n",
    "To use it we do as follows:"
   ]
  },
  {
   "cell_type": "code",
   "execution_count": null,
   "metadata": {},
   "outputs": [],
   "source": [
    "from graphein.protein.graphs import construct_graph\n",
    "\n",
    "g = construct_graph(config=config, pdb_code=\"3eiy\")\n",
    "g = construct_graph(config=config, pdb_path=\"../graphein/examples/pdbs/3eiy.pdb\")"
   ]
  },
  {
   "cell_type": "markdown",
   "metadata": {},
   "source": [
    "Let's check out the results with the in-built visualisation"
   ]
  },
  {
   "cell_type": "code",
   "execution_count": null,
   "metadata": {},
   "outputs": [],
   "source": [
    "from graphein.protein.visualisation import plot_protein_structure_graph\n",
    "\n",
    "p = plot_protein_structure_graph(G=g, angle=0, colour_edges_by=\"kind\", colour_nodes_by=\"degree\", label_node_ids=False)\n",
    "plt.suptitle(\"Peptide backbone graph. Nodes coloured by degree.\")\n",
    "p.show()"
   ]
  },
  {
   "cell_type": "markdown",
   "metadata": {},
   "source": [
    "Cool! So let's look at what we've got here:\n",
    "\n",
    "We've plotted the graph, positioning nodes according to their x,y,z coordinates and coloured them by their degree. As we can see all the nodes are yellow except the two corresponding to the terminal residues. Why is this? Because we've only computed the peptide-bond edges. Now, we probably want more so let's look at how to do that!"
   ]
  },
  {
   "cell_type": "markdown",
   "metadata": {},
   "source": [
    "### Edge Functions\n",
    "Graphein is implemented in a functional fashion. In this case, this means in order to compute edges, we pass a list of edge construction functions to the construction. We have supplied a number of edge computation functions. These are located in:\n",
    "* `graphein.protein.edges.distance`\n",
    "* `graphein.protein.edges.intramolecular`(these rely on an installation of GetContacts, an optional dependency) and a separate get_contacts_config\n",
    "* `graphein.protein.edges.atomic` (these are used in atomic-level graphs and we discuss these in another notebook)\n",
    "\n",
    "However, edge functions are simple functions that take in an `nx.Graph` and return an `nx.Graph` with added edges. This means users can easily define their own to suit their purposes! Let's take a closer look at some of the in-built functions before defining our own.\n",
    "\n",
    "#### Built-in Edge Functions"
   ]
  },
  {
   "cell_type": "code",
   "execution_count": null,
   "metadata": {},
   "outputs": [],
   "source": [
    "from graphein.protein.edges.distance import add_hydrogen_bond_interactions, add_peptide_bonds\n",
    "\n",
    "new_edge_funcs = {\"edge_construction_functions\": [add_peptide_bonds, add_hydrogen_bond_interactions]}\n",
    "config = ProteinGraphConfig(**new_edge_funcs)\n",
    "\n",
    "\n",
    "g = construct_graph(config=config, pdb_code=\"3eiy\")\n",
    "p = plot_protein_structure_graph(G=g, angle=0, colour_edges_by=\"kind\", colour_nodes_by=\"degree\", label_node_ids=False)\n",
    "plt.suptitle(\"Protein graph with peptide backbone and H-Bonds. \\n Nodes coloured by degree. Edges coloured by type.\")"
   ]
  },
  {
   "cell_type": "markdown",
   "metadata": {},
   "source": [
    "Great! So what if we try __a bunch__ of them"
   ]
  },
  {
   "cell_type": "code",
   "execution_count": null,
   "metadata": {},
   "outputs": [],
   "source": [
    "from graphein.protein.edges.distance import (add_peptide_bonds,\n",
    "                                             add_hydrogen_bond_interactions,\n",
    "                                             add_disulfide_interactions,\n",
    "                                             add_ionic_interactions,\n",
    "                                             add_aromatic_interactions,\n",
    "                                             add_aromatic_sulphur_interactions,\n",
    "                                             add_cation_pi_interactions\n",
    "                                            )\n",
    "\n",
    "new_edge_funcs = {\"edge_construction_functions\": [add_peptide_bonds,\n",
    "                                                  add_hydrogen_bond_interactions,\n",
    "                                                  add_disulfide_interactions,\n",
    "                                                  add_ionic_interactions,\n",
    "                                                  add_aromatic_sulphur_interactions,\n",
    "                                                  add_cation_pi_interactions]\n",
    "                 }\n",
    "\n",
    "config = ProteinGraphConfig(**new_edge_funcs)\n",
    "g = construct_graph(config=config, pdb_code=\"3eiy\")\n",
    "p = plot_protein_structure_graph(G=g, angle=0, colour_edges_by=\"kind\", colour_nodes_by=\"degree\", label_node_ids=False)\n",
    "plt.suptitle(\"Protein graph with: peptide backbone, H-Bonds, \\n Disulphide, ionic, aromatic, aromatic-sulphur and cation-pi interactions. \\n  Nodes coloured by degree, edges by type\")"
   ]
  },
  {
   "cell_type": "markdown",
   "metadata": {},
   "source": [
    "Cool! So we've added a bunch on distance-based computations of intramolecular edges to our graph! We have a few more distance based edge functions that we can visualise. Let's check them out!\n",
    "\n",
    "* `graphein.protein.edges.distance.add_delaunay_triangulation`: Adds edges based on the delaunay triangulation\n",
    "* `graphein.protein.edges.distance.add_k_nn_edges`: Adds edges based on K Nearest neighbours\n",
    "* `graphein.protein.edges.distance.add_distance_threshold`: Adds edges based on distance cutoff in Angstroms\n",
    "\n",
    "First up, the Delaunay triangulation:"
   ]
  },
  {
   "cell_type": "code",
   "execution_count": null,
   "metadata": {},
   "outputs": [],
   "source": [
    "from graphein.protein.edges.distance import add_delaunay_triangulation\n",
    "\n",
    "new_edge_funcs = {\"edge_construction_functions\": [add_delaunay_triangulation]}\n",
    "config = ProteinGraphConfig(**new_edge_funcs)\n",
    "\n",
    "g = construct_graph(config=config, pdb_code=\"3eiy\")\n",
    "nrp = plot_protein_structure_graph(G=g, angle=0, colour_edges_by=\"kind\", colour_nodes_by=\"degree\", label_node_ids=False)\n",
    "plt.suptitle(\"Protein graph created by the Delaunay trinagulation of the structure. \\n Nodes coloured by degree.\")"
   ]
  },
  {
   "cell_type": "markdown",
   "metadata": {},
   "source": [
    "Next, let's consider the last two edge construction functions `add_k_nn_edges` and`add_distance_threshold`. These two functions take additional parameters. We can manage this with partial functions. These functions also feature a `long_interaction_threshold` parameter which specifies the minimum number of residues in the sequence between two residues in order to add an edge. This is because we may not be so interested in residues close together in the sequence being close together in the graph."
   ]
  },
  {
   "cell_type": "code",
   "execution_count": null,
   "metadata": {},
   "outputs": [],
   "source": [
    "from functools import partial\n",
    "from graphein.protein.edges.distance import add_distance_threshold\n",
    "\n",
    "new_edge_funcs = {\"edge_construction_functions\": [partial(add_distance_threshold, long_interaction_threshold=5, threshold=10.)]}\n",
    "config = ProteinGraphConfig(**new_edge_funcs)\n",
    "\n",
    "g = construct_graph(config=config, pdb_code=\"3eiy\")\n",
    "p = plot_protein_structure_graph(G=g, angle=0, colour_edges_by=\"kind\", colour_nodes_by=\"degree\", label_node_ids=False)\n",
    "plt.suptitle(\"Protein graph created by thresholding distance between nodes. \\n Nodes must be <10A apart and at least 5 positions apart \\n Nodes coloured by degree.\")"
   ]
  },
  {
   "cell_type": "code",
   "execution_count": null,
   "metadata": {},
   "outputs": [],
   "source": [
    "from functools import partial\n",
    "from graphein.protein.edges.distance import add_k_nn_edges\n",
    "\n",
    "new_edge_funcs = {\"edge_construction_functions\": [partial(add_k_nn_edges, k=3, long_interaction_threshold=0)]}\n",
    "config = ProteinGraphConfig(**new_edge_funcs)\n",
    "\n",
    "g = construct_graph(config=config, pdb_code=\"3eiy\")\n",
    "p = plot_protein_structure_graph(G=g, angle=0, colour_edges_by=\"kind\", colour_nodes_by=\"degree\", label_node_ids=False)\n",
    "plt.suptitle(\"Protein graph created from K-NN of each node. Nodes coloured by degree.\")"
   ]
  },
  {
   "cell_type": "markdown",
   "metadata": {},
   "source": [
    "#### Defining your own edge functions\n",
    "Now, let's turn our attention to defining our own edge construction functions. These must take in a `nx.Graph` and return a `nx.Graph`. You can use these custom functions together with all the in-built edge functions as before. If you come up with something cool, consider making a pull-request and sharing it with the community!\n",
    "\n",
    "Here, as an example, we define an arbitrary function that creates an edge between all histidine residues in the graph."
   ]
  },
  {
   "cell_type": "code",
   "execution_count": null,
   "metadata": {},
   "outputs": [],
   "source": [
    "import networkx as nx\n",
    "\n",
    "def add_histidine_histidine_edges(G: nx.Graph) -> nx.Graph:\n",
    "    # Iterate over nodes to identify histidines\n",
    "    histidines = [n for n, d in G.nodes(data=True) if d[\"residue_name\"] == \"HIS\"]\n",
    "\n",
    "    # Iterate over histidines and create a bond between them\n",
    "    [G.add_edge(x, y, kind=\"histidine\") for i, x in enumerate(histidines) for j, y in enumerate(histidines) if i!=j]\n",
    "    \n",
    "    return G    "
   ]
  },
  {
   "cell_type": "code",
   "execution_count": null,
   "metadata": {},
   "outputs": [],
   "source": [
    "new_edge_funcs = {\"edge_construction_functions\": [add_histidine_histidine_edges]}\n",
    "config = ProteinGraphConfig(**new_edge_funcs)\n",
    "\n",
    "g = construct_graph(config=config, pdb_code=\"3eiy\")\n",
    "p = plot_protein_structure_graph(G=g, angle=0, colour_edges_by=\"kind\", colour_nodes_by=\"degree\", label_node_ids=False)\n",
    "plt.suptitle(\"Protein graph created using a user-defined function that connects all Histidines.\")\n",
    "\n",
    "# Let's check this worked:\n",
    "for u, v, a in g.edges(data=True):\n",
    "    print(u, v, a)"
   ]
  },
  {
   "cell_type": "markdown",
   "metadata": {},
   "source": [
    "### Features & Metadata\n",
    "`Graphein` is designed to facilitate geometric deep learning on protein structures and so we have a bunch of feature and metadata annotation functions. These operate on three levels:\n",
    "* node-level annotation\n",
    "* graph-level annotation\n",
    "* edge-level annotation\n",
    "\n",
    "These behave very similarly to the edge construction functions we just looked at. You simply pass a list of functions that take the right sort of arguments and return the right types. \n",
    "\n",
    "* graph-level annotation takes in a `nx.Graph` and returns an `nx.Graph` (just like before!).\n",
    "* node-level annotation takes in a node, data tuple from `G.nodes(data=True)` and returns a `pd.Series`\n",
    "* edge-level annotation in node_u, node_v, data tuple from `G.edges(data=True)` and returns "
   ]
  },
  {
   "cell_type": "markdown",
   "metadata": {},
   "source": [
    "#### Built-in Graph Annotation Functions\n",
    "These are found in `graphein.protein.features.sequence` and `graphein.protein.features.graph`. We make a slight distinction between those functions that operate on the protein sequence for cleaner organisation. N.B. we've mentioned the `chain_selection` parameter briefly - if you include multiple chains in your graph, then will be multiple sequences associated with it. These are accessed as such: `G.graph[f\"sequence_{CHAIN_ID}\"]` and features computed from sequence are accessed as: `G.graph[f\"{FEATURE_NAME}_{CHAIN_ID}]`"
   ]
  },
  {
   "cell_type": "code",
   "execution_count": null,
   "metadata": {},
   "outputs": [],
   "source": [
    "from graphein.protein.features.sequence.sequence import molecular_weight\n",
    "\n",
    "new_graph_annotation_funcs = {\"graph_metadata_functions\": [molecular_weight]}\n",
    "config = ProteinGraphConfig(**new_graph_annotation_funcs)\n",
    "\n",
    "g = construct_graph(config=config, pdb_code=\"3eiy\")\n",
    "print(\"Sequence:\", g.graph[\"sequence_A\"])\n",
    "print(\"MW:\", g.graph[\"molecular_weight_A\"])"
   ]
  },
  {
   "cell_type": "markdown",
   "metadata": {},
   "source": [
    "We also provide some utilities for adding graph-level features in the form of sequence embeddings from various pre-trained language models. Let's check them out!"
   ]
  },
  {
   "cell_type": "code",
   "execution_count": null,
   "metadata": {},
   "outputs": [],
   "source": [
    "# Warning! This cell may crash a binder notebook as the pre-trained model download is rather large!\n",
    "from graphein.protein.features.sequence.embeddings import esm_sequence_embedding, biovec_sequence_embedding\n",
    "\n",
    "new_graph_annotation_funcs = {\"graph_metadata_functions\": [esm_sequence_embedding, biovec_sequence_embedding]}\n",
    "config = ProteinGraphConfig(**new_graph_annotation_funcs)\n",
    "\n",
    "g = construct_graph(config=config, pdb_code=\"3eiy\")\n",
    "print(\"ESM:\", g.graph[\"esm_embedding_A\"])\n",
    "print(\"biovec:\", g.graph[\"biovec_embedding_A\"])"
   ]
  },
  {
   "cell_type": "markdown",
   "metadata": {},
   "source": [
    "#### Writing your own graph-level annotation function.\n",
    "We provide a couple of useful functions for dealing with multiple chains robustly, namely `compute_feature_over_chains` and `aggregate_feature_over_chains`. This takes an input (`nx.Graph`), your function: (`Callable`), and feature_name (`str`). Your function must operate on a sequence (`str`) to use this utility.\n",
    "\n",
    "`aggregate_feature_over_chains` can be used to perform aggregation `{\"min\", \"max\", \"sum\" , \"mean\"}` of chain-specific features. It takes: an `nx.Graph`, a feature name (`str`) and and aggregation type (`str`)\n",
    "\n",
    "If you don't want to operate on the sequnce, you don't need to use these!\n",
    "\n",
    "Let's use this to construct a graph-level feature that operates on the sequence. This feature is an integer equal to the number of histidines in the chain."
   ]
  },
  {
   "cell_type": "code",
   "execution_count": null,
   "metadata": {},
   "outputs": [],
   "source": [
    "from graphein.protein.features.sequence.utils import compute_feature_over_chains, aggregate_feature_over_chains\n",
    "\n",
    "# Define our graph-level function that operates on sequences\n",
    "def histidine_count_feature(G: nx.Graph) -> nx.Graph:\n",
    "\n",
    "    # Define our feature function that operates on a sequence\n",
    "    def count_histidines(sequence: str) -> int:\n",
    "         return sequence.count(\"H\")\n",
    "        \n",
    "    # Compute the feature over the chains in the graph\n",
    "    G = compute_feature_over_chains(G, func=count_histidines, feature_name=\"histidine_count\")\n",
    "    \n",
    "    # Aggregate the feature over the chains\n",
    "    G = aggregate_feature_over_chains(G, feature_name=\"histidine_count\", aggregation_type=\"mean\")\n",
    "    return G\n",
    "\n",
    "\n",
    "new_graph_annotation_funcs = {\"graph_metadata_functions\": [histidine_count_feature]}\n",
    "config = ProteinGraphConfig(**new_graph_annotation_funcs)\n",
    "\n",
    "# Test our new feature\n",
    "g = construct_graph(config=config, pdb_code=\"3eiy\")\n",
    "print(g.graph[\"histidine_count_A\"])\n",
    "\n",
    "# And now on a multi-chain graph\n",
    "g = construct_graph(config=config, pdb_code=\"9API\", chain_selection=\"all\")\n",
    "print(\"Chain A Hists:\", g.graph[\"histidine_count_A\"])\n",
    "print(\"Chain B Hists:\", g.graph[\"histidine_count_B\"])\n",
    "print(\"Chain B Seq:\", g.graph[\"sequence_B\"])\n",
    "print(\"Aggregated HIS count:\", g.graph[\"histidine_count_mean\"])"
   ]
  },
  {
   "cell_type": "markdown",
   "metadata": {},
   "source": [
    "#### Node-level features\n",
    "Similarly, we provide some in-built functions for computing node-level features\n",
    "\n",
    "#### TODO Complete\n"
   ]
  },
  {
   "cell_type": "markdown",
   "metadata": {},
   "source": [
    "## Low-Level API\n",
    "\n",
    "Graphein also features a low-level API if you want to get down into the gritty details of the construction. Essentially, every step of the construction is a function that you can tweak/alter the sequencing of as you please. This is __very__ flexible if not unnecessary for most applications\n",
    "\n",
    "### Pre-Processing\n",
    "All graphs begin as `pd.DataFrame` representations of the .PDB file. These are handled by PandasPDB. There is a convenience function here `process_dataframe`, to which you can pass a list of dataframe processing functions. These are similar to the edge construction and annotation functions described above except they take in a `pd.DataFrame` and return a `pd.DataFrame`. We'll start by reimplementing the construction we've been using above."
   ]
  },
  {
   "cell_type": "code",
   "execution_count": null,
   "metadata": {},
   "outputs": [],
   "source": [
    "from graphein.protein.graphs import read_pdb_to_dataframe, process_dataframe, deprotonate_structure, convert_structure_to_centroids, subset_structure_to_atom_type, filter_hetatms, remove_insertions\n",
    "\n",
    "processing_funcs = [deprotonate_structure, convert_structure_to_centroids, remove_insertions]\n",
    "\n",
    "\n",
    "pdb_code = \"3eiy\"\n",
    "# Read dataframe from PDB\n",
    "raw_df = read_pdb_to_dataframe(pdb_code=pdb_code)\n",
    "\n",
    "# Apply processing functions\n",
    "df = process_dataframe(raw_df, atom_df_processing_funcs = processing_funcs)\n",
    "df.head()"
   ]
  },
  {
   "cell_type": "markdown",
   "metadata": {},
   "source": [
    "We can define our own processing functions. Here we define a function that removes odd numbered residues from the dataframe. We'll use this again later."
   ]
  },
  {
   "cell_type": "code",
   "execution_count": null,
   "metadata": {},
   "outputs": [],
   "source": [
    "import pandas as pd\n",
    "\n",
    "def remove_odd_resis(df: pd.DataFrame) -> pd.DataFrame:\n",
    "    return df.loc[df.index % 2 == 0]\n",
    "\n",
    "remove_odd_resis(df).head()"
   ]
  },
  {
   "cell_type": "markdown",
   "metadata": {},
   "source": [
    "### Building the Graph\n",
    "First we initialise the graph with the metadata. We then use this to add the nodes"
   ]
  },
  {
   "cell_type": "code",
   "execution_count": null,
   "metadata": {},
   "outputs": [],
   "source": [
    "from graphein.protein.graphs import initialise_graph_with_metadata, add_nodes_to_graph\n",
    "\n",
    "g = initialise_graph_with_metadata(protein_df=df, # from above cell\n",
    "                                   raw_pdb_df=raw_df.df[\"ATOM\"], # Store this for traceability\n",
    "                                   pdb_id = pdb_code, #and again\n",
    "                                   granularity = \"centroid\" # Store this so we know what kind of graph we have\n",
    "                                  )\n",
    "\n",
    "g = add_nodes_to_graph(g)\n",
    "print(g.nodes)"
   ]
  },
  {
   "cell_type": "markdown",
   "metadata": {},
   "source": [
    "Next, we add edges to the graph:"
   ]
  },
  {
   "cell_type": "code",
   "execution_count": null,
   "metadata": {},
   "outputs": [],
   "source": [
    "from graphein.protein.graphs import compute_edges\n",
    "g = compute_edges(g, get_contacts_config=None, funcs=[add_peptide_bonds, add_hydrogen_bond_interactions])\n",
    "print(g.edges)"
   ]
  },
  {
   "cell_type": "markdown",
   "metadata": {},
   "source": [
    "Let's check it out!"
   ]
  },
  {
   "cell_type": "code",
   "execution_count": null,
   "metadata": {},
   "outputs": [],
   "source": [
    "p = plot_protein_structure_graph(G=g, angle=0, colour_edges_by=\"kind\", colour_nodes_by=\"degree\", label_node_ids=False)\n",
    "plt.suptitle(\"Protein graph created using low-level API. Shows peptide bond back bond and H-Bonds\")"
   ]
  },
  {
   "cell_type": "markdown",
   "metadata": {},
   "source": [
    "Just as we expected! From here we can apply any number of graph, node or edge metadata annotation functions that we may wish to. The advantage here is that we are not tied to the sequencing in the high-level API of:\n",
    "\n",
    "(annotate node metadata -> compute edges -> annotate graph metadata -> annotate edge metadata). \n",
    "\n",
    "This means, if we want, we can define graph annotation functions that utilise edge metadata that would otherwise not be possible. E.g. here we annotate bonds containing histidines with a 1. We then define a graph feature that looks for these bonds, sums the residue numbers involved and sums them."
   ]
  },
  {
   "cell_type": "code",
   "execution_count": null,
   "metadata": {},
   "outputs": [],
   "source": [
    "from graphein.protein.graphs import annotate_node_metadata, annotate_graph_metadata, annotate_edge_metadata\n",
    "\n",
    "# Define edge feature that assigns hist_status = 1 to any bond involving a histidine\n",
    "def bond_has_histidine_edge_feature(u, v, d):\n",
    "    if \"HIS\" in u or \"HIS\" in v:\n",
    "        d[\"hist_status\"] = 1\n",
    "    else:\n",
    "        d[\"hist_status\"] = 0\n",
    "        \n",
    "# Annotate the edge metadata\n",
    "g = annotate_edge_metadata(g, [bond_has_histidine_edge_feature])\n",
    "\n",
    "# Check it out\n",
    "for u, v, d in g.edges(data=True):\n",
    "    if d[\"hist_status\"] == 1:\n",
    "        print(u, v, d)\n",
    "\n",
    "# Annotate graph-level feature that depends on histidine_status edge feature. This adds the sum of the residue numbers involved in hist_status bonds\n",
    "def sum_hist_status_bond_residue_nums(G: nx.Graph) -> nx.Graph:\n",
    "    to_add = []\n",
    "    \n",
    "    for u, v, a in G.edges(data=True):\n",
    "        if a[\"hist_status\"] == 1:\n",
    "            to_add.append(G.nodes[u][\"residue_number\"])\n",
    "            to_add.append(G.nodes[v][\"residue_number\"])\n",
    "            \n",
    "    total = sum(to_add)\n",
    "        \n",
    "    G.graph[\"hist_bond_total_residue_number\"] = total\n",
    "    return G\n",
    "                    \n",
    "                          \n",
    "g = annotate_graph_metadata(g, [sum_hist_status_bond_residue_nums])\n",
    "print(\"Graph-level hist feature:\", g.graph[\"hist_bond_total_residue_number\"]) "
   ]
  },
  {
   "cell_type": "markdown",
   "metadata": {},
   "source": [
    "_fin_"
   ]
  }
 ],
 "metadata": {
  "kernelspec": {
   "display_name": "graphein_dev",
   "language": "python",
   "name": "graphein_dev"
  },
  "language_info": {
   "codemirror_mode": {
    "name": "ipython",
    "version": 3
   },
   "file_extension": ".py",
   "mimetype": "text/x-python",
   "name": "python",
   "nbconvert_exporter": "python",
   "pygments_lexer": "ipython3",
   "version": "3.7.9"
  }
 },
 "nbformat": 4,
 "nbformat_minor": 4
}
