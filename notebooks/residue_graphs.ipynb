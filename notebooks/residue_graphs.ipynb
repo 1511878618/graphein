{
 "cells": [
  {
   "cell_type": "code",
   "execution_count": 1,
   "metadata": {},
   "outputs": [],
   "source": [
    "%matplotlib widget\n",
    "import logging\n",
    "logging.basicConfig(level=\"INFO\")"
   ]
  },
  {
   "cell_type": "markdown",
   "metadata": {},
   "source": [
    "# Graphein - Residue Graph Tutorial\n",
    "\n",
    "In this notebook, we'll run through residue-level graph construction in Graphein. We start by discsussing the config, the high-level API and spend the bulk of the tutorial running through the low-level API"
   ]
  },
  {
   "cell_type": "markdown",
   "metadata": {},
   "source": [
    "## Config\n",
    "Graphein is designed for processing datasets of protein structures into graphs. We rely on a global config object to store various parameters in the high-level API. We use `pydantic` for the config object and provide sane defaults."
   ]
  },
  {
   "cell_type": "code",
   "execution_count": 2,
   "metadata": {},
   "outputs": [
    {
     "data": {
      "text/plain": [
       "{'granularity': 'CA',\n",
       " 'keep_hets': False,\n",
       " 'insertions': False,\n",
       " 'pdb_dir': PosixPath('../examples/pdbs'),\n",
       " 'verbose': True,\n",
       " 'exclude_waters': True,\n",
       " 'deprotonate': False,\n",
       " 'protein_df_processing_functions': None,\n",
       " 'edge_construction_functions': [<function graphein.protein.edges.distance.add_peptide_bonds(G: 'nx.Graph') -> 'nx.Graph'>],\n",
       " 'node_metadata_functions': [<function graphein.protein.features.nodes.amino_acid.meiler_embedding(n, d) -> pandas.core.series.Series>],\n",
       " 'edge_metadata_functions': None,\n",
       " 'graph_metadata_functions': None,\n",
       " 'get_contacts_config': None}"
      ]
     },
     "execution_count": 2,
     "metadata": {},
     "output_type": "execute_result"
    }
   ],
   "source": [
    "from graphein.protein.config import ProteinGraphConfig\n",
    "\n",
    "config = ProteinGraphConfig()\n",
    "config.dict()"
   ]
  },
  {
   "cell_type": "markdown",
   "metadata": {},
   "source": [
    "Let's run through the config:\n",
    "\n",
    "* `granularity`: specifies the granularity of the graph (i.e. what should the nodes be). Possible values are: atom identifiers (e.g. `\"CA\"` for $\\alpha$ carbon, `\"CB\"` for $\\beta$ carbon), `\"centroid\"` to use residue centroids (under the hood, this is the same as \"CA\", but we use the average x,y,z coordinates for the atoms in the residue) or \"atom\" for atom-level construction. This is discussed in another notebook.\n",
    "* `keep_hets`: this is a boolean specifying whether or not to keep heteroatoms present in the .pdb file. Heteroatoms are typically non-protein atoms (waters, metal ions, ligands) but can sometimes contain non-standard or modified residues.\n",
    "* `insertions`: boolean specifying whether or not to keep insertions in the PDB file\n",
    "* `pdb_dir` optional path to a folder in which to save pdb files. Otherwise, `/tmp/` will be used\n",
    "* `verbose`: bool controlling amount of info printed\n",
    "* `exclude_waters`: not implemented\n",
    "* `deprotonate`: bool indicating whether or not to remove Hydrogen atoms\n",
    "* `protein_df_processing_functions`: list of functions with which to process the PDB dataframe. Discussed in the low-level API.\n",
    "* `edge_construction_functions`: list of functions to compute edges with\n",
    "* `node_metadata_functions`: list of functions to annotate nodes with\n",
    "* `edge_metadata_functions`: list of functions to annotate edges with\n",
    "* `graph_meta_functions`: list of functions to annotate graph with\n",
    "* `get_contacts_config`: A separate config object if using GetContacts edge construction functions"
   ]
  },
  {
   "cell_type": "markdown",
   "metadata": {},
   "source": [
    "If you wish, you can construct an entirely fresh configuration. Or, if we wish to change only some of these parameters, we can pass a dictionary containing our modifications:"
   ]
  },
  {
   "cell_type": "code",
   "execution_count": 3,
   "metadata": {},
   "outputs": [
    {
     "data": {
      "text/plain": [
       "{'granularity': 'centroids',\n",
       " 'keep_hets': False,\n",
       " 'insertions': False,\n",
       " 'pdb_dir': PosixPath('../examples/pdbs'),\n",
       " 'verbose': True,\n",
       " 'exclude_waters': True,\n",
       " 'deprotonate': False,\n",
       " 'protein_df_processing_functions': None,\n",
       " 'edge_construction_functions': [<function graphein.protein.edges.distance.add_peptide_bonds(G: 'nx.Graph') -> 'nx.Graph'>],\n",
       " 'node_metadata_functions': [<function graphein.protein.features.nodes.amino_acid.meiler_embedding(n, d) -> pandas.core.series.Series>],\n",
       " 'edge_metadata_functions': None,\n",
       " 'graph_metadata_functions': None,\n",
       " 'get_contacts_config': None}"
      ]
     },
     "execution_count": 3,
     "metadata": {},
     "output_type": "execute_result"
    }
   ],
   "source": [
    "params_to_change = {\"granularity\": \"centroids\"}\n",
    "\n",
    "config = ProteinGraphConfig(**params_to_change)\n",
    "config.dict()"
   ]
  },
  {
   "cell_type": "markdown",
   "metadata": {},
   "source": [
    "## High-level API\n",
    "Graphein features a high-level API which should be applicable for most simple graph constructions. This can be used on either a .pdb file (so you can run whatever pre-processing you wish), or we can provide a PDB accession code and retrieve a structure from the PDB itself. If a path is provided, it takes precedence over the PDB code.\n",
    "\n",
    "To use it we do as follows:"
   ]
  },
  {
   "cell_type": "code",
   "execution_count": 4,
   "metadata": {},
   "outputs": [
    {
     "name": "stdout",
     "output_type": "stream",
     "text": [
      "<biopandas.pdb.pandas_pdb.PandasPdb object at 0x7fdc02495450>\n",
      "<biopandas.pdb.pandas_pdb.PandasPdb object at 0x7fdc0249d890>\n"
     ]
    }
   ],
   "source": [
    "from graphein.protein.graphs import construct_graph\n",
    "\n",
    "g = construct_graph(config=config, pdb_code=\"3eiy\")\n",
    "g = construct_graph(config=config, pdb_path=\"../examples/pdbs/3eiy.pdb\")"
   ]
  },
  {
   "cell_type": "markdown",
   "metadata": {},
   "source": [
    "Let's check out the results with the in-built visualisation"
   ]
  },
  {
   "cell_type": "code",
   "execution_count": 5,
   "metadata": {},
   "outputs": [
    {
     "data": {
      "application/vnd.jupyter.widget-view+json": {
       "model_id": "636a789daf7145329b857b7e8bf78cdb",
       "version_major": 2,
       "version_minor": 0
      },
      "text/plain": [
       "Canvas(toolbar=Toolbar(toolitems=[('Home', 'Reset original view', 'home', 'home'), ('Back', 'Back to previous …"
      ]
     },
     "metadata": {},
     "output_type": "display_data"
    }
   ],
   "source": [
    "from graphein.protein.visualisation import plot_protein_structure_graph\n",
    "\n",
    "p = plot_protein_structure_graph(G=g, angle=0, colour_edges_by=\"kind\", colour_nodes_by=\"degree\", label_node_ids=False)\n",
    "p.show()"
   ]
  },
  {
   "cell_type": "markdown",
   "metadata": {},
   "source": [
    "Cool! So let's look at what we've got here:\n",
    "\n",
    "We've plotted the graph, positioning nodes according to their x,y,z coordinates and coloured them by their degree. As we can see all the nodes are yellow except the two corresponding to the terminal residues. Why is this? Because we've only computed the peptide-bond edges. Now, we probably want more so let's look at how to do that!"
   ]
  },
  {
   "cell_type": "markdown",
   "metadata": {},
   "source": [
    "### Edge Functions\n",
    "Graphein is implemented in a functional fashion. In this case, this means in order to compute edges, we pass a list of edge construction functions to the construction. We have supplied a number of edge computation functions. These are located in:\n",
    "* `graphein.protein.edges.distance`\n",
    "* `graphein.protein.edges.intramolecular`(these rely on an installation of GetContacts, an optional dependency) and a separate get_contacts_config\n",
    "* `graphein.protein.edges.atomic` (these are used in atomic-level graphs and we discuss these in another notebook)\n",
    "\n",
    "However, edge functions are simple functions that take in an `nx.Graph` and return an `nx.Graph` with added edges. This means users can easily define their own to suit their purposes! Let's take a closer look at some of the in-built functions before defining our own.\n",
    "\n",
    "#### Built-in Edge Functions"
   ]
  },
  {
   "cell_type": "code",
   "execution_count": 8,
   "metadata": {},
   "outputs": [
    {
     "name": "stdout",
     "output_type": "stream",
     "text": [
      "<biopandas.pdb.pandas_pdb.PandasPdb object at 0x7fdbc09f98d0>\n"
     ]
    },
    {
     "data": {
      "application/vnd.jupyter.widget-view+json": {
       "model_id": "9f9c891e142641fbb9dd52edf6d781c9",
       "version_major": 2,
       "version_minor": 0
      },
      "text/plain": [
       "Canvas(toolbar=Toolbar(toolitems=[('Home', 'Reset original view', 'home', 'home'), ('Back', 'Back to previous …"
      ]
     },
     "metadata": {},
     "output_type": "display_data"
    }
   ],
   "source": [
    "from graphein.protein.edges.distance import add_hydrogen_bond_interactions, add_peptide_bonds\n",
    "\n",
    "new_edge_funcs = {\"edge_construction_functions\": [add_peptide_bonds, add_hydrogen_bond_interactions]}\n",
    "config = ProteinGraphConfig(**new_edge_funcs)\n",
    "\n",
    "\n",
    "g = construct_graph(config=config, pdb_code=\"3eiy\")\n",
    "p = plot_protein_structure_graph(G=g, angle=0, colour_edges_by=\"kind\", colour_nodes_by=\"degree\", label_node_ids=False)"
   ]
  },
  {
   "cell_type": "markdown",
   "metadata": {},
   "source": [
    "Great! So what if we try __a bunch__ of them"
   ]
  },
  {
   "cell_type": "code",
   "execution_count": 10,
   "metadata": {},
   "outputs": [
    {
     "name": "stdout",
     "output_type": "stream",
     "text": [
      "<biopandas.pdb.pandas_pdb.PandasPdb object at 0x7fdbc8d3d810>\n"
     ]
    },
    {
     "data": {
      "application/vnd.jupyter.widget-view+json": {
       "model_id": "2250f3df875741dc9cffbd5b6986ab0e",
       "version_major": 2,
       "version_minor": 0
      },
      "text/plain": [
       "Canvas(toolbar=Toolbar(toolitems=[('Home', 'Reset original view', 'home', 'home'), ('Back', 'Back to previous …"
      ]
     },
     "metadata": {},
     "output_type": "display_data"
    }
   ],
   "source": [
    "from graphein.protein.edges.distance import (add_peptide_bonds,\n",
    "                                             add_hydrogen_bond_interactions,\n",
    "                                             add_disulfide_interactions,\n",
    "                                             add_ionic_interactions,\n",
    "                                             add_aromatic_interactions,\n",
    "                                             add_aromatic_sulphur_interactions,\n",
    "                                             add_cation_pi_interactions\n",
    "                                            )\n",
    "\n",
    "new_edge_funcs = {\"edge_construction_functions\": [add_peptide_bonds,\n",
    "                                                  add_hydrogen_bond_interactions,\n",
    "                                                  add_disulfide_interactions,\n",
    "                                                  add_ionic_interactions,\n",
    "                                                  add_aromatic_sulphur_interactions,\n",
    "                                                  add_cation_pi_interactions]\n",
    "                 }\n",
    "\n",
    "config = ProteinGraphConfig(**new_edge_funcs)\n",
    "g = construct_graph(config=config, pdb_code=\"3eiy\")\n",
    "p = plot_protein_structure_graph(G=g, angle=0, colour_edges_by=\"kind\", colour_nodes_by=\"degree\", label_node_ids=False)"
   ]
  },
  {
   "cell_type": "markdown",
   "metadata": {},
   "source": [
    "Cool! So we've added a bunch on distance-based computations of intramolecular edges to our graph! We have a few more distance based edge functions that we can visualise. Let's check them out!\n",
    "\n",
    "* `graphein.protein.edges.distance.add_delaunay_triangulation`: Adds edges based on the delaunay triangulation\n",
    "* `graphein.protein.edges.distance.add_k_nn_edges`: Adds edges based on K Nearest neighbours\n",
    "* `graphein.protein.edges.distance.add_distance_threshold`: Adds edges based on distance cutoff in Angstroms\n",
    "\n",
    "First up, the Delaunay triangulation:"
   ]
  },
  {
   "cell_type": "code",
   "execution_count": 11,
   "metadata": {},
   "outputs": [
    {
     "name": "stdout",
     "output_type": "stream",
     "text": [
      "<biopandas.pdb.pandas_pdb.PandasPdb object at 0x7fdc20c19b10>\n"
     ]
    },
    {
     "data": {
      "application/vnd.jupyter.widget-view+json": {
       "model_id": "fc22816b20204477bfec0cc31691565f",
       "version_major": 2,
       "version_minor": 0
      },
      "text/plain": [
       "Canvas(toolbar=Toolbar(toolitems=[('Home', 'Reset original view', 'home', 'home'), ('Back', 'Back to previous …"
      ]
     },
     "metadata": {},
     "output_type": "display_data"
    }
   ],
   "source": [
    "from graphein.protein.edges.distance import add_delaunay_triangulation\n",
    "\n",
    "new_edge_funcs = {\"edge_construction_functions\": [add_delaunay_triangulation]}\n",
    "config = ProteinGraphConfig(**new_edge_funcs)\n",
    "\n",
    "g = construct_graph(config=config, pdb_code=\"3eiy\")\n",
    "nrp = plot_protein_structure_graph(G=g, angle=0, colour_edges_by=\"kind\", colour_nodes_by=\"degree\", label_node_ids=False)"
   ]
  },
  {
   "cell_type": "markdown",
   "metadata": {},
   "source": [
    "Next, let's consider the last two edge construction functions `add_k_nn_edges` and`add_distance_threshold`. These two functions take additional parameters. We can manage this with partial functions. These functions also feature a `long_interaction_threshold` parameter which specifies the minimum number of residues in the sequence between two residues in order to add an edge. This is because we may not be so interested in residues close together in the sequence being close together in the graph."
   ]
  },
  {
   "cell_type": "code",
   "execution_count": 12,
   "metadata": {},
   "outputs": [
    {
     "name": "stdout",
     "output_type": "stream",
     "text": [
      "<biopandas.pdb.pandas_pdb.PandasPdb object at 0x7fdbf1de1110>\n"
     ]
    },
    {
     "data": {
      "application/vnd.jupyter.widget-view+json": {
       "model_id": "3fad05f652a5457380752c4029a78366",
       "version_major": 2,
       "version_minor": 0
      },
      "text/plain": [
       "Canvas(toolbar=Toolbar(toolitems=[('Home', 'Reset original view', 'home', 'home'), ('Back', 'Back to previous …"
      ]
     },
     "metadata": {},
     "output_type": "display_data"
    }
   ],
   "source": [
    "from functools import partial\n",
    "from graphein.protein.edges.distance import add_k_nn_edges, add_distance_threshold\n",
    "\n",
    "new_edge_funcs = {\"edge_construction_functions\": [partial(add_distance_threshold, long_interaction_threshold=0, threshold=5.)]}\n",
    "config = ProteinGraphConfig(**new_edge_funcs)\n",
    "\n",
    "g = construct_graph(config=config, pdb_code=\"3eiy\")\n",
    "p = plot_protein_structure_graph(G=g, angle=0, colour_edges_by=\"kind\", colour_nodes_by=\"degree\", label_node_ids=False)"
   ]
  },
  {
   "cell_type": "markdown",
   "metadata": {},
   "source": [
    "#### Defining your own edge functions\n",
    "Now, let's turn our attention to defining our own edge construction functions. These must take in a `nx.Graph` and return a `nx.Graph`. You can use these custom functions together with all the in-built edge functions as before. If you come up with something cool, consider making a pull-request and sharing it with the community!\n",
    "\n",
    "Here, as an example, we define an arbitrary function that creates an edge between all histidine residues in the graph."
   ]
  },
  {
   "cell_type": "code",
   "execution_count": 14,
   "metadata": {},
   "outputs": [],
   "source": [
    "import networkx as nx\n",
    "\n",
    "def add_histidine_histidine_edges(G: nx.Graph) -> nx.Graph:\n",
    "    # Iterate over nodes to identify histidines\n",
    "    histidines = [n for n, d in G.nodes(data=True) if d[\"residue_name\"] == \"HIS\"]\n",
    "\n",
    "    # Iterate over histidines and create a bond between them\n",
    "    [G.add_edge(x, y, kind=\"histidine\") for i, x in enumerate(histidines) for j, y in enumerate(histidines) if i!=j]\n",
    "    \n",
    "    return G    "
   ]
  },
  {
   "cell_type": "code",
   "execution_count": 15,
   "metadata": {},
   "outputs": [
    {
     "name": "stdout",
     "output_type": "stream",
     "text": [
      "<biopandas.pdb.pandas_pdb.PandasPdb object at 0x7fdc210bb350>\n"
     ]
    },
    {
     "data": {
      "application/vnd.jupyter.widget-view+json": {
       "model_id": "5d7e377c11e740d38914e0aaf21dfc5a",
       "version_major": 2,
       "version_minor": 0
      },
      "text/plain": [
       "Canvas(toolbar=Toolbar(toolitems=[('Home', 'Reset original view', 'home', 'home'), ('Back', 'Back to previous …"
      ]
     },
     "metadata": {},
     "output_type": "display_data"
    },
    {
     "name": "stdout",
     "output_type": "stream",
     "text": [
      "A:HIS:111 A:HIS:137 {'kind': 'histidine'}\n",
      "A:HIS:111 A:HIS:163 {'kind': 'histidine'}\n",
      "A:HIS:137 A:HIS:163 {'kind': 'histidine'}\n"
     ]
    }
   ],
   "source": [
    "new_edge_funcs = {\"edge_construction_functions\": [add_histidine_histidine_edges]}\n",
    "config = ProteinGraphConfig(**new_edge_funcs)\n",
    "\n",
    "g = construct_graph(config=config, pdb_code=\"3eiy\")\n",
    "p = plot_protein_structure_graph(G=g, angle=0, colour_edges_by=\"kind\", colour_nodes_by=\"degree\", label_node_ids=False)\n",
    "\n",
    "# Let's check this worked:\n",
    "for u, v, a in g.edges(data=True):\n",
    "    print(u, v, a)"
   ]
  },
  {
   "cell_type": "markdown",
   "metadata": {},
   "source": [
    "### Features & Metadata\n",
    "`Graphein` is designed to facilitate geometric deep learning on protein structures and so we have a bunch of feature and metadata annotation functions. These operate on three levels:\n",
    "* node-level annotation\n",
    "* graph-level annotation\n",
    "* edge-level annotation\n",
    "\n",
    "These behave very similarly to the edge construction functions we just looked at. You simply pass a list of functions that take the right sort of arguments and return the right types. \n",
    "\n",
    "* graph-level annotation takes in a `nx.Graph` and returns an `nx.Graph` (just like before!).\n",
    "* node-level annotation takes in a node, data tuple from `G.nodes(data=True)` and returns a `pd.Series`\n",
    "* edge-level annotation in node_u, node_v, data tuple from `G.edges(data=True)` and returns "
   ]
  },
  {
   "cell_type": "markdown",
   "metadata": {},
   "source": [
    "#### Built-in Graph Annotation Functions\n",
    "These are found in `graphein.protein.features.sequence` and `graphein.protein.features.graph`. We make a slight distinction between those functions that operate on the protein sequence for cleaner organisation. N.B. we've mentioned the `chain_selection` parameter briefly - if you include multiple chains in your graph, then will be multiple sequences associated with it. These are accessed as such: `G.graph[f\"sequence_{CHAIN_ID}\"]` and features computed from sequence are accessed as: `G.graph[f\"{FEATURE_NAME}_{CHAIN_ID}]`"
   ]
  },
  {
   "cell_type": "code",
   "execution_count": 16,
   "metadata": {},
   "outputs": [
    {
     "name": "stdout",
     "output_type": "stream",
     "text": [
      "<biopandas.pdb.pandas_pdb.PandasPdb object at 0x7fdc21106bd0>\n",
      "Sequence: SFSNVPAGKDLPQDFNVIIEIPAQSEPVKYEADKALGLLVVDRFIGTGMRYPVNYGFIPQTLSGDGDPVDVLVITPFPLLAGSVVRARALGMLKMTDESGVDAKLVAVPHDKVCPMTANLKSIDDVPAYLKDQIKHFFEQYKALEKGKWVKVEGWDGIDAAHKEITDGVANFKK\n",
      "MW: 19029.71029999999\n"
     ]
    }
   ],
   "source": [
    "from graphein.protein.features.sequence.sequence import molecular_weight\n",
    "\n",
    "new_graph_annotation_funcs = {\"graph_metadata_functions\": [molecular_weight]}\n",
    "config = ProteinGraphConfig(**new_graph_annotation_funcs)\n",
    "\n",
    "g = construct_graph(config=config, pdb_code=\"3eiy\")\n",
    "print(\"Sequence:\", g.graph[\"sequence_A\"])\n",
    "print(\"MW:\", g.graph[\"molecular_weight_A\"])"
   ]
  },
  {
   "cell_type": "markdown",
   "metadata": {},
   "source": [
    "We also provide some utilities for adding graph-level features in the form of sequence embeddings from various pre-trained language models. Let's check them out!"
   ]
  },
  {
   "cell_type": "code",
   "execution_count": 17,
   "metadata": {},
   "outputs": [
    {
     "name": "stdout",
     "output_type": "stream",
     "text": [
      "<biopandas.pdb.pandas_pdb.PandasPdb object at 0x7fdc40d52f50>\n"
     ]
    },
    {
     "name": "stderr",
     "output_type": "stream",
     "text": [
      "Using cache found in /Users/arianjamasb/.cache/torch/hub/facebookresearch_esm_master\n",
      "INFO:summarizer.preprocessing.cleaner:'pattern' package not found; tag filters are not available for English\n",
      "INFO:gensim.utils:loading Word2Vec object from /Users/arianjamasb/github/graphein/graphein/protein/features/pretrained_models/swissprot-reviewed-protvec.model\n",
      "INFO:gensim.utils:loading vocabulary recursively from /Users/arianjamasb/github/graphein/graphein/protein/features/pretrained_models/swissprot-reviewed-protvec.model.vocabulary.* with mmap=None\n",
      "INFO:gensim.utils:loading wv recursively from /Users/arianjamasb/github/graphein/graphein/protein/features/pretrained_models/swissprot-reviewed-protvec.model.wv.* with mmap=None\n",
      "INFO:gensim.utils:setting ignored attribute vectors_norm to None\n",
      "INFO:gensim.utils:loading trainables recursively from /Users/arianjamasb/github/graphein/graphein/protein/features/pretrained_models/swissprot-reviewed-protvec.model.trainables.* with mmap=None\n",
      "INFO:gensim.utils:setting ignored attribute cum_table to None\n",
      "INFO:gensim.utils:loaded /Users/arianjamasb/github/graphein/graphein/protein/features/pretrained_models/swissprot-reviewed-protvec.model\n"
     ]
    },
    {
     "name": "stdout",
     "output_type": "stream",
     "text": [
      "ESM: [-0.02279943  0.16464776 -0.00461985 ...  0.02556627 -0.19798404\n",
      "  0.09682213]\n",
      "biovec: [array([ -8.865931  ,   5.65769   ,  -1.5052402 ,   3.2893941 ,\n",
      "        -6.6228924 ,   2.4890645 ,   1.0635861 ,   2.4991994 ,\n",
      "        -2.2740204 ,  -7.6614437 ,   0.3739053 ,   4.285517  ,\n",
      "        -1.7950253 ,  -2.0930681 ,   0.19075748,   9.249631  ,\n",
      "        -1.2537682 ,   6.0140305 ,  -3.0592997 ,   3.1944623 ,\n",
      "         5.6747837 ,   1.4732779 ,  -9.556535  ,   4.5126605 ,\n",
      "       -15.789192  ,  -9.917104  ,  10.61495   ,   1.6693095 ,\n",
      "         1.8446481 , -12.656563  ,   2.5226657 ,   3.2782233 ,\n",
      "         5.6363025 ,  -1.5776551 ,   9.913681  ,  -1.4776824 ,\n",
      "         7.4292827 ,   2.6953607 ,  -0.81495905,   1.0415509 ,\n",
      "       -18.352554  ,  -9.603085  , -11.215957  ,   3.9449768 ,\n",
      "         2.2988393 ,   2.8612108 ,  -5.647224  ,  -9.894558  ,\n",
      "         2.8099368 ,  -3.47802   ,  -1.7364154 ,   4.10581   ,\n",
      "        -1.1337806 ,  -7.851351  ,   3.667841  ,   2.5098174 ,\n",
      "         0.3878222 ,  -0.282476  ,   4.242093  ,   2.7918775 ,\n",
      "        -0.3927042 ,  -3.504907  ,   2.2170143 ,  -6.7696056 ,\n",
      "        -8.574576  ,   7.549987  ,   5.5607357 ,  -7.514735  ,\n",
      "         5.778782  ,   2.1968088 ,   5.747694  ,  -4.4072075 ,\n",
      "         1.6411833 ,   2.339804  ,   4.364424  ,  -4.615387  ,\n",
      "         0.61950064,   7.19126   ,  -0.10569584,  -6.485407  ,\n",
      "        -3.3555477 ,   0.58533096,   4.150122  ,   4.6470437 ,\n",
      "        -7.6111784 ,   5.8581285 ,  -9.8836    ,   8.114656  ,\n",
      "         4.3746543 ,   1.4033681 ,  -4.632345  ,  13.016971  ,\n",
      "        -2.839704  ,  -6.210647  ,   3.4460034 ,   2.6573007 ,\n",
      "       -14.987186  ,  -6.545936  ,  -2.3990562 ,   1.2732263 ],\n",
      "      dtype=float32), array([ -9.079695  ,   3.7650356 ,   0.3614651 ,   2.1325634 ,\n",
      "        -5.285296  ,   3.0021908 ,   1.2300422 ,   1.8999658 ,\n",
      "        -2.0472856 ,  -5.5658956 ,   0.5014471 ,   3.8743246 ,\n",
      "        -1.0728757 ,  -3.0830898 ,   0.73323405,   9.658365  ,\n",
      "        -0.10142106,   6.2466826 ,  -2.4961333 ,   2.8022783 ,\n",
      "         6.5060906 ,   1.6311501 , -10.04929   ,   5.4711785 ,\n",
      "       -16.297068  , -10.765219  ,  10.580414  ,   0.503202  ,\n",
      "         2.4227042 , -12.57771   ,   2.7075891 ,   3.9921677 ,\n",
      "         5.5343657 ,  -0.9493397 ,  10.082592  ,   0.301396  ,\n",
      "         6.978562  ,   2.4752004 ,  -1.1012759 ,  -1.1357698 ,\n",
      "       -16.81547   ,  -9.117541  , -10.919918  ,   3.8029845 ,\n",
      "         2.5540738 ,   3.0349758 ,  -5.4471354 ,  -9.438955  ,\n",
      "         3.067747  ,  -3.1571815 ,  -3.1563768 ,   4.7784586 ,\n",
      "        -2.3092556 ,  -7.704368  ,   0.82422435,   1.8206171 ,\n",
      "         2.161718  ,   0.37946355,   4.7007704 ,   2.2930143 ,\n",
      "         0.75466317,  -3.3875456 ,   2.3561945 ,  -6.173627  ,\n",
      "        -7.655903  ,   6.066585  ,   5.7083497 ,  -8.785268  ,\n",
      "         4.0877957 ,   2.1213973 ,   5.8782153 ,  -4.1335964 ,\n",
      "         0.26376987,   3.185395  ,   3.9498727 ,  -4.5998893 ,\n",
      "        -0.11535516,   8.4039135 ,  -0.8255909 ,  -5.910516  ,\n",
      "        -2.2402806 ,  -0.15940607,   3.476339  ,   6.034683  ,\n",
      "        -6.72777   ,   6.143824  ,  -9.662175  ,   8.747985  ,\n",
      "         3.985702  ,   2.272303  ,  -3.933255  ,  12.071237  ,\n",
      "        -1.8998326 ,  -6.6413393 ,   4.2529097 ,   3.4216733 ,\n",
      "       -15.628299  ,  -5.513835  ,  -3.004577  ,   1.3258756 ],\n",
      "      dtype=float32), array([ -6.9852    ,   4.425231  ,  -0.5174276 ,   2.0380528 ,\n",
      "        -7.1311088 ,   2.4794824 ,   1.9649935 ,   1.9006643 ,\n",
      "        -1.3209196 ,  -5.8989286 ,   1.2391084 ,   3.485902  ,\n",
      "        -1.9545169 ,  -2.2625084 ,   1.8165749 ,   9.708086  ,\n",
      "        -0.74385244,   6.5338845 ,  -3.0916584 ,   3.9312694 ,\n",
      "         6.1540847 ,   3.4793413 , -10.056544  ,   5.7322254 ,\n",
      "       -13.599701  , -10.923328  ,   9.378405  ,   0.555632  ,\n",
      "         3.512236  , -11.891929  ,   2.382594  ,   3.2599561 ,\n",
      "         5.123339  ,  -0.55314994,  10.585077  ,  -0.9078483 ,\n",
      "         8.167705  ,   2.4789596 ,   0.78942966,  -1.0045129 ,\n",
      "       -17.38679   ,  -9.496934  , -10.542821  ,   3.5852609 ,\n",
      "         3.3952198 ,   2.9937162 ,  -5.9167666 ,  -9.517663  ,\n",
      "         2.2889428 ,  -3.6738756 ,  -2.7072256 ,   4.6205435 ,\n",
      "        -1.970848  ,  -6.7903805 ,   2.1213295 ,   2.5594456 ,\n",
      "         0.4943355 ,   0.27333227,   4.096034  ,   1.2748998 ,\n",
      "        -1.3203058 ,  -3.6010296 ,   2.623712  ,  -8.468901  ,\n",
      "        -6.3624053 ,   7.388231  ,   4.908528  ,  -7.1587243 ,\n",
      "         4.9127274 ,   3.2538335 ,   6.45744   ,  -3.3919108 ,\n",
      "        -0.22479697,   2.4506824 ,   4.864544  ,  -4.201532  ,\n",
      "        -0.08151506,   5.778758  ,  -0.5880602 ,  -7.52435   ,\n",
      "        -2.3001645 ,   0.04607171,   4.0975637 ,   5.7935786 ,\n",
      "        -8.676276  ,   6.952252  , -11.0132    ,   7.6395264 ,\n",
      "         4.4887743 ,   2.5889583 ,  -5.0494356 ,  12.681698  ,\n",
      "        -2.3577175 ,  -5.7180576 ,   3.481403  ,   3.9928114 ,\n",
      "       -14.854708  ,  -6.135002  ,  -2.9227335 ,   1.2122653 ],\n",
      "      dtype=float32)]\n"
     ]
    }
   ],
   "source": [
    "from graphein.protein.features.sequence.embeddings import esm_sequence_embedding, biovec_sequence_embedding\n",
    "\n",
    "new_graph_annotation_funcs = {\"graph_metadata_functions\": [esm_sequence_embedding, biovec_sequence_embedding]}\n",
    "config = ProteinGraphConfig(**new_graph_annotation_funcs)\n",
    "\n",
    "g = construct_graph(config=config, pdb_code=\"3eiy\")\n",
    "print(\"ESM:\", g.graph[\"esm_embedding_A\"])\n",
    "print(\"biovec:\", g.graph[\"biovec_embedding_A\"])"
   ]
  },
  {
   "cell_type": "markdown",
   "metadata": {},
   "source": [
    "#### Writing your own graph-level annotation function.\n",
    "We provide a couple of useful functions for dealing with multiple chains robustly, namely `compute_feature_over_chains` and `aggregate_feature_over_chains`. This takes an input (`nx.Graph`), your function: (`Callable`), and feature_name (`str`). Your function must operate on a sequence (`str`) to use this utility.\n",
    "\n",
    "`aggregate_feature_over_chains` can be used to perform aggregation `{\"min\", \"max\", \"sum\" , \"mean\"}` of chain-specific features. It takes: an `nx.Graph`, a feature name (`str`) and and aggregation type (`str`)\n",
    "\n",
    "If you don't want to operate on the sequnce, you don't need to use these!\n",
    "\n",
    "Let's use this to construct a graph-level feature that operates on the sequence. This feature is an integer equal to the number of histidines in the chain."
   ]
  },
  {
   "cell_type": "code",
   "execution_count": 18,
   "metadata": {},
   "outputs": [
    {
     "name": "stdout",
     "output_type": "stream",
     "text": [
      "<biopandas.pdb.pandas_pdb.PandasPdb object at 0x7fdc40d574d0>\n",
      "3\n",
      "<biopandas.pdb.pandas_pdb.PandasPdb object at 0x7fdc02647bd0>\n",
      "Chain A Hists: 11\n",
      "Chain B Hists: 0\n",
      "Chain B Seq: SIPPEVKFNKPFVFLMIEQNTKSPLFMGKVVNPTQK\n",
      "Aggregated HIS count: 5.5\n"
     ]
    }
   ],
   "source": [
    "from graphein.protein.features.sequence.utils import compute_feature_over_chains, aggregate_feature_over_chains\n",
    "\n",
    "# Define our graph-level function that operates on sequences\n",
    "def histidine_count_feature(G: nx.Graph) -> nx.Graph:\n",
    "\n",
    "    # Define our feature function that operates on a sequence\n",
    "    def count_histidines(sequence: str) -> int:\n",
    "         return sequence.count(\"H\")\n",
    "        \n",
    "    # Compute the feature over the chains in the graph\n",
    "    G = compute_feature_over_chains(G, func=count_histidines, feature_name=\"histidine_count\")\n",
    "    \n",
    "    # Aggregate the feature over the chains\n",
    "    G = aggregate_feature_over_chains(G, feature_name=\"histidine_count\", aggregation_type=\"mean\")\n",
    "    return G\n",
    "\n",
    "\n",
    "new_graph_annotation_funcs = {\"graph_metadata_functions\": [histidine_count_feature]}\n",
    "config = ProteinGraphConfig(**new_graph_annotation_funcs)\n",
    "\n",
    "# Test our new feature\n",
    "g = construct_graph(config=config, pdb_code=\"3eiy\")\n",
    "print(g.graph[\"histidine_count_A\"])\n",
    "\n",
    "# And now on a multi-chain graph\n",
    "g = construct_graph(config=config, pdb_code=\"9API\", chain_selection=\"all\")\n",
    "print(\"Chain A Hists:\", g.graph[\"histidine_count_A\"])\n",
    "print(\"Chain B Hists:\", g.graph[\"histidine_count_B\"])\n",
    "print(\"Chain B Seq:\", g.graph[\"sequence_B\"])\n",
    "print(\"Aggregated HIS count:\", g.graph[\"histidine_count_mean\"])"
   ]
  },
  {
   "cell_type": "markdown",
   "metadata": {},
   "source": [
    "#### Node-level features\n",
    "Similarly, we provide some in-built functions for computing node-level features\n",
    "\n",
    "#### TODO Complete\n"
   ]
  },
  {
   "cell_type": "markdown",
   "metadata": {},
   "source": [
    "## Low-Level API\n",
    "\n",
    "Graphein also features a low-level API if you want to get down into the gritty details of the construction. Essentially, every step of the construction is a function that you can tweak/alter the sequencing of as you please. This is __very__ flexible if not unnecessary for most applications\n",
    "\n",
    "### Pre-Processing\n",
    "All graphs begin as `pd.DataFrame` representations of the .PDB file. These are handled by PandasPDB. There is a convenience function here `process_dataframe`, to which you can pass a list of dataframe processing functions. These are similar to the edge construction and annotation functions described above except they take in a `pd.DataFrame` and return a `pd.DataFrame`. We'll start by reimplementing the construction we've been using above."
   ]
  },
  {
   "cell_type": "code",
   "execution_count": 19,
   "metadata": {},
   "outputs": [
    {
     "data": {
      "text/html": [
       "<div>\n",
       "<style scoped>\n",
       "    .dataframe tbody tr th:only-of-type {\n",
       "        vertical-align: middle;\n",
       "    }\n",
       "\n",
       "    .dataframe tbody tr th {\n",
       "        vertical-align: top;\n",
       "    }\n",
       "\n",
       "    .dataframe thead th {\n",
       "        text-align: right;\n",
       "    }\n",
       "</style>\n",
       "<table border=\"1\" class=\"dataframe\">\n",
       "  <thead>\n",
       "    <tr style=\"text-align: right;\">\n",
       "      <th></th>\n",
       "      <th>record_name</th>\n",
       "      <th>atom_number</th>\n",
       "      <th>blank_1</th>\n",
       "      <th>atom_name</th>\n",
       "      <th>alt_loc</th>\n",
       "      <th>residue_name</th>\n",
       "      <th>blank_2</th>\n",
       "      <th>chain_id</th>\n",
       "      <th>residue_number</th>\n",
       "      <th>insertion</th>\n",
       "      <th>...</th>\n",
       "      <th>y_coord</th>\n",
       "      <th>z_coord</th>\n",
       "      <th>occupancy</th>\n",
       "      <th>b_factor</th>\n",
       "      <th>blank_4</th>\n",
       "      <th>segment_id</th>\n",
       "      <th>element_symbol</th>\n",
       "      <th>charge</th>\n",
       "      <th>line_idx</th>\n",
       "      <th>node_id</th>\n",
       "    </tr>\n",
       "  </thead>\n",
       "  <tbody>\n",
       "    <tr>\n",
       "      <th>0</th>\n",
       "      <td>ATOM</td>\n",
       "      <td>2</td>\n",
       "      <td></td>\n",
       "      <td>CA</td>\n",
       "      <td></td>\n",
       "      <td>SER</td>\n",
       "      <td></td>\n",
       "      <td>A</td>\n",
       "      <td>2</td>\n",
       "      <td></td>\n",
       "      <td>...</td>\n",
       "      <td>54.615500</td>\n",
       "      <td>-0.136833</td>\n",
       "      <td>1.0</td>\n",
       "      <td>52.54</td>\n",
       "      <td></td>\n",
       "      <td></td>\n",
       "      <td>C</td>\n",
       "      <td>NaN</td>\n",
       "      <td>610</td>\n",
       "      <td>A:SER:2</td>\n",
       "    </tr>\n",
       "    <tr>\n",
       "      <th>1</th>\n",
       "      <td>ATOM</td>\n",
       "      <td>8</td>\n",
       "      <td></td>\n",
       "      <td>CA</td>\n",
       "      <td></td>\n",
       "      <td>PHE</td>\n",
       "      <td></td>\n",
       "      <td>A</td>\n",
       "      <td>3</td>\n",
       "      <td></td>\n",
       "      <td>...</td>\n",
       "      <td>51.417273</td>\n",
       "      <td>2.656727</td>\n",
       "      <td>1.0</td>\n",
       "      <td>48.73</td>\n",
       "      <td></td>\n",
       "      <td></td>\n",
       "      <td>C</td>\n",
       "      <td>NaN</td>\n",
       "      <td>616</td>\n",
       "      <td>A:PHE:3</td>\n",
       "    </tr>\n",
       "    <tr>\n",
       "      <th>2</th>\n",
       "      <td>ATOM</td>\n",
       "      <td>19</td>\n",
       "      <td></td>\n",
       "      <td>CA</td>\n",
       "      <td></td>\n",
       "      <td>SER</td>\n",
       "      <td></td>\n",
       "      <td>A</td>\n",
       "      <td>4</td>\n",
       "      <td></td>\n",
       "      <td>...</td>\n",
       "      <td>50.090833</td>\n",
       "      <td>-2.889667</td>\n",
       "      <td>1.0</td>\n",
       "      <td>47.00</td>\n",
       "      <td></td>\n",
       "      <td></td>\n",
       "      <td>C</td>\n",
       "      <td>NaN</td>\n",
       "      <td>627</td>\n",
       "      <td>A:SER:4</td>\n",
       "    </tr>\n",
       "    <tr>\n",
       "      <th>3</th>\n",
       "      <td>ATOM</td>\n",
       "      <td>25</td>\n",
       "      <td></td>\n",
       "      <td>CA</td>\n",
       "      <td></td>\n",
       "      <td>ASN</td>\n",
       "      <td></td>\n",
       "      <td>A</td>\n",
       "      <td>5</td>\n",
       "      <td></td>\n",
       "      <td>...</td>\n",
       "      <td>52.759000</td>\n",
       "      <td>-4.146375</td>\n",
       "      <td>1.0</td>\n",
       "      <td>41.42</td>\n",
       "      <td></td>\n",
       "      <td></td>\n",
       "      <td>C</td>\n",
       "      <td>NaN</td>\n",
       "      <td>633</td>\n",
       "      <td>A:ASN:5</td>\n",
       "    </tr>\n",
       "    <tr>\n",
       "      <th>4</th>\n",
       "      <td>ATOM</td>\n",
       "      <td>33</td>\n",
       "      <td></td>\n",
       "      <td>CA</td>\n",
       "      <td></td>\n",
       "      <td>VAL</td>\n",
       "      <td></td>\n",
       "      <td>A</td>\n",
       "      <td>6</td>\n",
       "      <td></td>\n",
       "      <td>...</td>\n",
       "      <td>51.575429</td>\n",
       "      <td>0.109000</td>\n",
       "      <td>1.0</td>\n",
       "      <td>32.41</td>\n",
       "      <td></td>\n",
       "      <td></td>\n",
       "      <td>C</td>\n",
       "      <td>NaN</td>\n",
       "      <td>641</td>\n",
       "      <td>A:VAL:6</td>\n",
       "    </tr>\n",
       "  </tbody>\n",
       "</table>\n",
       "<p>5 rows × 22 columns</p>\n",
       "</div>"
      ],
      "text/plain": [
       "  record_name  atom_number blank_1 atom_name alt_loc residue_name blank_2  \\\n",
       "0        ATOM            2                CA                  SER           \n",
       "1        ATOM            8                CA                  PHE           \n",
       "2        ATOM           19                CA                  SER           \n",
       "3        ATOM           25                CA                  ASN           \n",
       "4        ATOM           33                CA                  VAL           \n",
       "\n",
       "  chain_id  residue_number insertion  ...    y_coord   z_coord  occupancy  \\\n",
       "0        A               2            ...  54.615500 -0.136833        1.0   \n",
       "1        A               3            ...  51.417273  2.656727        1.0   \n",
       "2        A               4            ...  50.090833 -2.889667        1.0   \n",
       "3        A               5            ...  52.759000 -4.146375        1.0   \n",
       "4        A               6            ...  51.575429  0.109000        1.0   \n",
       "\n",
       "   b_factor  blank_4  segment_id element_symbol charge line_idx  node_id  \n",
       "0     52.54                                   C    NaN      610  A:SER:2  \n",
       "1     48.73                                   C    NaN      616  A:PHE:3  \n",
       "2     47.00                                   C    NaN      627  A:SER:4  \n",
       "3     41.42                                   C    NaN      633  A:ASN:5  \n",
       "4     32.41                                   C    NaN      641  A:VAL:6  \n",
       "\n",
       "[5 rows x 22 columns]"
      ]
     },
     "execution_count": 19,
     "metadata": {},
     "output_type": "execute_result"
    }
   ],
   "source": [
    "from graphein.protein.graphs import read_pdb_to_dataframe, process_dataframe, deprotonate_structure, convert_structure_to_centroids, subset_structure_to_atom_type, filter_hetatms, remove_insertions\n",
    "\n",
    "processing_funcs = [deprotonate_structure, convert_structure_to_centroids, remove_insertions]\n",
    "\n",
    "\n",
    "pdb_code = \"3eiy\"\n",
    "# Read dataframe from PDB\n",
    "raw_df = read_pdb_to_dataframe(pdb_code=pdb_code)\n",
    "\n",
    "# Apply processing functions\n",
    "df = process_dataframe(raw_df, atom_df_processing_funcs = processing_funcs)\n",
    "df.head()"
   ]
  },
  {
   "cell_type": "markdown",
   "metadata": {},
   "source": [
    "We can define our own processing functions. Here we define a function that removes odd numbered residues from the dataframe. We'll use this again later."
   ]
  },
  {
   "cell_type": "code",
   "execution_count": 20,
   "metadata": {},
   "outputs": [
    {
     "data": {
      "text/html": [
       "<div>\n",
       "<style scoped>\n",
       "    .dataframe tbody tr th:only-of-type {\n",
       "        vertical-align: middle;\n",
       "    }\n",
       "\n",
       "    .dataframe tbody tr th {\n",
       "        vertical-align: top;\n",
       "    }\n",
       "\n",
       "    .dataframe thead th {\n",
       "        text-align: right;\n",
       "    }\n",
       "</style>\n",
       "<table border=\"1\" class=\"dataframe\">\n",
       "  <thead>\n",
       "    <tr style=\"text-align: right;\">\n",
       "      <th></th>\n",
       "      <th>record_name</th>\n",
       "      <th>atom_number</th>\n",
       "      <th>blank_1</th>\n",
       "      <th>atom_name</th>\n",
       "      <th>alt_loc</th>\n",
       "      <th>residue_name</th>\n",
       "      <th>blank_2</th>\n",
       "      <th>chain_id</th>\n",
       "      <th>residue_number</th>\n",
       "      <th>insertion</th>\n",
       "      <th>...</th>\n",
       "      <th>y_coord</th>\n",
       "      <th>z_coord</th>\n",
       "      <th>occupancy</th>\n",
       "      <th>b_factor</th>\n",
       "      <th>blank_4</th>\n",
       "      <th>segment_id</th>\n",
       "      <th>element_symbol</th>\n",
       "      <th>charge</th>\n",
       "      <th>line_idx</th>\n",
       "      <th>node_id</th>\n",
       "    </tr>\n",
       "  </thead>\n",
       "  <tbody>\n",
       "    <tr>\n",
       "      <th>0</th>\n",
       "      <td>ATOM</td>\n",
       "      <td>2</td>\n",
       "      <td></td>\n",
       "      <td>CA</td>\n",
       "      <td></td>\n",
       "      <td>SER</td>\n",
       "      <td></td>\n",
       "      <td>A</td>\n",
       "      <td>2</td>\n",
       "      <td></td>\n",
       "      <td>...</td>\n",
       "      <td>54.615500</td>\n",
       "      <td>-0.136833</td>\n",
       "      <td>1.0</td>\n",
       "      <td>52.54</td>\n",
       "      <td></td>\n",
       "      <td></td>\n",
       "      <td>C</td>\n",
       "      <td>NaN</td>\n",
       "      <td>610</td>\n",
       "      <td>A:SER:2</td>\n",
       "    </tr>\n",
       "    <tr>\n",
       "      <th>2</th>\n",
       "      <td>ATOM</td>\n",
       "      <td>19</td>\n",
       "      <td></td>\n",
       "      <td>CA</td>\n",
       "      <td></td>\n",
       "      <td>SER</td>\n",
       "      <td></td>\n",
       "      <td>A</td>\n",
       "      <td>4</td>\n",
       "      <td></td>\n",
       "      <td>...</td>\n",
       "      <td>50.090833</td>\n",
       "      <td>-2.889667</td>\n",
       "      <td>1.0</td>\n",
       "      <td>47.00</td>\n",
       "      <td></td>\n",
       "      <td></td>\n",
       "      <td>C</td>\n",
       "      <td>NaN</td>\n",
       "      <td>627</td>\n",
       "      <td>A:SER:4</td>\n",
       "    </tr>\n",
       "    <tr>\n",
       "      <th>4</th>\n",
       "      <td>ATOM</td>\n",
       "      <td>33</td>\n",
       "      <td></td>\n",
       "      <td>CA</td>\n",
       "      <td></td>\n",
       "      <td>VAL</td>\n",
       "      <td></td>\n",
       "      <td>A</td>\n",
       "      <td>6</td>\n",
       "      <td></td>\n",
       "      <td>...</td>\n",
       "      <td>51.575429</td>\n",
       "      <td>0.109000</td>\n",
       "      <td>1.0</td>\n",
       "      <td>32.41</td>\n",
       "      <td></td>\n",
       "      <td></td>\n",
       "      <td>C</td>\n",
       "      <td>NaN</td>\n",
       "      <td>641</td>\n",
       "      <td>A:VAL:6</td>\n",
       "    </tr>\n",
       "    <tr>\n",
       "      <th>6</th>\n",
       "      <td>ATOM</td>\n",
       "      <td>47</td>\n",
       "      <td></td>\n",
       "      <td>CA</td>\n",
       "      <td></td>\n",
       "      <td>ALA</td>\n",
       "      <td></td>\n",
       "      <td>A</td>\n",
       "      <td>8</td>\n",
       "      <td></td>\n",
       "      <td>...</td>\n",
       "      <td>46.781200</td>\n",
       "      <td>0.618800</td>\n",
       "      <td>1.0</td>\n",
       "      <td>25.67</td>\n",
       "      <td></td>\n",
       "      <td></td>\n",
       "      <td>C</td>\n",
       "      <td>NaN</td>\n",
       "      <td>655</td>\n",
       "      <td>A:ALA:8</td>\n",
       "    </tr>\n",
       "    <tr>\n",
       "      <th>8</th>\n",
       "      <td>ATOM</td>\n",
       "      <td>56</td>\n",
       "      <td></td>\n",
       "      <td>CA</td>\n",
       "      <td></td>\n",
       "      <td>LYS</td>\n",
       "      <td></td>\n",
       "      <td>A</td>\n",
       "      <td>10</td>\n",
       "      <td></td>\n",
       "      <td>...</td>\n",
       "      <td>51.873333</td>\n",
       "      <td>1.231222</td>\n",
       "      <td>1.0</td>\n",
       "      <td>27.63</td>\n",
       "      <td></td>\n",
       "      <td></td>\n",
       "      <td>C</td>\n",
       "      <td>NaN</td>\n",
       "      <td>664</td>\n",
       "      <td>A:LYS:10</td>\n",
       "    </tr>\n",
       "  </tbody>\n",
       "</table>\n",
       "<p>5 rows × 22 columns</p>\n",
       "</div>"
      ],
      "text/plain": [
       "  record_name  atom_number blank_1 atom_name alt_loc residue_name blank_2  \\\n",
       "0        ATOM            2                CA                  SER           \n",
       "2        ATOM           19                CA                  SER           \n",
       "4        ATOM           33                CA                  VAL           \n",
       "6        ATOM           47                CA                  ALA           \n",
       "8        ATOM           56                CA                  LYS           \n",
       "\n",
       "  chain_id  residue_number insertion  ...    y_coord   z_coord  occupancy  \\\n",
       "0        A               2            ...  54.615500 -0.136833        1.0   \n",
       "2        A               4            ...  50.090833 -2.889667        1.0   \n",
       "4        A               6            ...  51.575429  0.109000        1.0   \n",
       "6        A               8            ...  46.781200  0.618800        1.0   \n",
       "8        A              10            ...  51.873333  1.231222        1.0   \n",
       "\n",
       "   b_factor  blank_4  segment_id element_symbol charge line_idx   node_id  \n",
       "0     52.54                                   C    NaN      610   A:SER:2  \n",
       "2     47.00                                   C    NaN      627   A:SER:4  \n",
       "4     32.41                                   C    NaN      641   A:VAL:6  \n",
       "6     25.67                                   C    NaN      655   A:ALA:8  \n",
       "8     27.63                                   C    NaN      664  A:LYS:10  \n",
       "\n",
       "[5 rows x 22 columns]"
      ]
     },
     "execution_count": 20,
     "metadata": {},
     "output_type": "execute_result"
    }
   ],
   "source": [
    "import pandas as pd\n",
    "\n",
    "def remove_odd_resis(df: pd.DataFrame) -> pd.DataFrame:\n",
    "    return df.loc[df.index % 2 == 0]\n",
    "\n",
    "remove_odd_resis(df).head()"
   ]
  },
  {
   "cell_type": "markdown",
   "metadata": {},
   "source": [
    "### Building the Graph\n",
    "First we initialise the graph with the metadata. We then use this to add the nodes"
   ]
  },
  {
   "cell_type": "code",
   "execution_count": 21,
   "metadata": {},
   "outputs": [
    {
     "name": "stdout",
     "output_type": "stream",
     "text": [
      "['A:SER:2', 'A:PHE:3', 'A:SER:4', 'A:ASN:5', 'A:VAL:6', 'A:PRO:7', 'A:ALA:8', 'A:GLY:9', 'A:LYS:10', 'A:ASP:11', 'A:LEU:12', 'A:PRO:13', 'A:GLN:14', 'A:ASP:15', 'A:PHE:16', 'A:ASN:17', 'A:VAL:18', 'A:ILE:19', 'A:ILE:20', 'A:GLU:21', 'A:ILE:22', 'A:PRO:23', 'A:ALA:24', 'A:GLN:25', 'A:SER:26', 'A:GLU:27', 'A:PRO:28', 'A:VAL:29', 'A:LYS:30', 'A:TYR:31', 'A:GLU:32', 'A:ALA:33', 'A:ASP:34', 'A:LYS:35', 'A:ALA:36', 'A:LEU:37', 'A:GLY:38', 'A:LEU:39', 'A:LEU:40', 'A:VAL:41', 'A:VAL:42', 'A:ASP:43', 'A:ARG:44', 'A:PHE:45', 'A:ILE:46', 'A:GLY:47', 'A:THR:48', 'A:GLY:49', 'A:MET:50', 'A:ARG:51', 'A:TYR:52', 'A:PRO:53', 'A:VAL:54', 'A:ASN:55', 'A:TYR:56', 'A:GLY:57', 'A:PHE:58', 'A:ILE:59', 'A:PRO:60', 'A:GLN:61', 'A:THR:62', 'A:LEU:63', 'A:SER:64', 'A:GLY:65', 'A:ASP:66', 'A:GLY:67', 'A:ASP:68', 'A:PRO:69', 'A:VAL:70', 'A:ASP:71', 'A:VAL:72', 'A:LEU:73', 'A:VAL:74', 'A:ILE:75', 'A:THR:76', 'A:PRO:77', 'A:PHE:78', 'A:PRO:79', 'A:LEU:80', 'A:LEU:81', 'A:ALA:82', 'A:GLY:83', 'A:SER:84', 'A:VAL:85', 'A:VAL:86', 'A:ARG:87', 'A:ALA:88', 'A:ARG:89', 'A:ALA:90', 'A:LEU:91', 'A:GLY:92', 'A:MET:93', 'A:LEU:94', 'A:LYS:95', 'A:MET:96', 'A:THR:97', 'A:ASP:98', 'A:GLU:99', 'A:SER:100', 'A:GLY:101', 'A:VAL:102', 'A:ASP:103', 'A:ALA:104', 'A:LYS:105', 'A:LEU:106', 'A:VAL:107', 'A:ALA:108', 'A:VAL:109', 'A:PRO:110', 'A:HIS:111', 'A:ASP:112', 'A:LYS:113', 'A:VAL:114', 'A:CYS:115', 'A:PRO:116', 'A:MET:117', 'A:THR:118', 'A:ALA:119', 'A:ASN:120', 'A:LEU:121', 'A:LYS:122', 'A:SER:123', 'A:ILE:124', 'A:ASP:125', 'A:ASP:126', 'A:VAL:127', 'A:PRO:128', 'A:ALA:129', 'A:TYR:130', 'A:LEU:131', 'A:LYS:132', 'A:ASP:133', 'A:GLN:134', 'A:ILE:135', 'A:LYS:136', 'A:HIS:137', 'A:PHE:138', 'A:PHE:139', 'A:GLU:140', 'A:GLN:141', 'A:TYR:142', 'A:LYS:143', 'A:ALA:144', 'A:LEU:145', 'A:GLU:146', 'A:LYS:147', 'A:GLY:148', 'A:LYS:149', 'A:TRP:150', 'A:VAL:151', 'A:LYS:152', 'A:VAL:153', 'A:GLU:154', 'A:GLY:155', 'A:TRP:156', 'A:ASP:157', 'A:GLY:158', 'A:ILE:159', 'A:ASP:160', 'A:ALA:161', 'A:ALA:162', 'A:HIS:163', 'A:LYS:164', 'A:GLU:165', 'A:ILE:166', 'A:THR:167', 'A:ASP:168', 'A:GLY:169', 'A:VAL:170', 'A:ALA:171', 'A:ASN:172', 'A:PHE:173', 'A:LYS:174', 'A:LYS:175']\n"
     ]
    }
   ],
   "source": [
    "from graphein.protein.graphs import initialise_graph_with_metadata, add_nodes_to_graph\n",
    "\n",
    "g = initialise_graph_with_metadata(protein_df=df, # from above cell\n",
    "                                   raw_pdb_df=raw_df.df[\"ATOM\"], # Store this for traceability\n",
    "                                   pdb_id = pdb_code, #and again\n",
    "                                   granularity = \"centroid\" # Store this so we know what kind of graph we have\n",
    "                                  )\n",
    "\n",
    "g = add_nodes_to_graph(g)\n",
    "print(g.nodes)"
   ]
  },
  {
   "cell_type": "markdown",
   "metadata": {},
   "source": [
    "Next, we add edges to the graph:"
   ]
  },
  {
   "cell_type": "code",
   "execution_count": 23,
   "metadata": {},
   "outputs": [
    {
     "name": "stdout",
     "output_type": "stream",
     "text": [
      "[('A:SER:2', 'A:PHE:3'), ('A:PHE:3', 'A:SER:4'), ('A:SER:4', 'A:ASN:5'), ('A:ASN:5', 'A:VAL:6'), ('A:VAL:6', 'A:PRO:7'), ('A:PRO:7', 'A:ALA:8'), ('A:ALA:8', 'A:GLY:9'), ('A:GLY:9', 'A:LYS:10'), ('A:LYS:10', 'A:ASP:11'), ('A:ASP:11', 'A:LEU:12'), ('A:LEU:12', 'A:PRO:13'), ('A:PRO:13', 'A:GLN:14'), ('A:GLN:14', 'A:ASP:15'), ('A:ASP:15', 'A:PHE:16'), ('A:ASP:15', 'A:ARG:87'), ('A:PHE:16', 'A:ASN:17'), ('A:ASN:17', 'A:VAL:18'), ('A:VAL:18', 'A:ILE:19'), ('A:ILE:19', 'A:ILE:20'), ('A:ILE:20', 'A:GLU:21'), ('A:GLU:21', 'A:ILE:22'), ('A:ILE:22', 'A:PRO:23'), ('A:PRO:23', 'A:ALA:24'), ('A:ALA:24', 'A:GLN:25'), ('A:GLN:25', 'A:SER:26'), ('A:SER:26', 'A:GLU:27'), ('A:GLU:27', 'A:PRO:28'), ('A:PRO:28', 'A:VAL:29'), ('A:VAL:29', 'A:LYS:30'), ('A:LYS:30', 'A:TYR:31'), ('A:TYR:31', 'A:GLU:32'), ('A:GLU:32', 'A:ALA:33'), ('A:ALA:33', 'A:ASP:34'), ('A:ASP:34', 'A:LYS:35'), ('A:LYS:35', 'A:ALA:36'), ('A:ALA:36', 'A:LEU:37'), ('A:LEU:37', 'A:GLY:38'), ('A:GLY:38', 'A:LEU:39'), ('A:LEU:39', 'A:LEU:40'), ('A:LEU:40', 'A:VAL:41'), ('A:VAL:41', 'A:VAL:42'), ('A:VAL:42', 'A:ASP:43'), ('A:ASP:43', 'A:ARG:44'), ('A:ARG:44', 'A:PHE:45'), ('A:ARG:44', 'A:LYS:149'), ('A:PHE:45', 'A:ILE:46'), ('A:ILE:46', 'A:GLY:47'), ('A:GLY:47', 'A:THR:48'), ('A:THR:48', 'A:GLY:49'), ('A:GLY:49', 'A:MET:50'), ('A:MET:50', 'A:ARG:51'), ('A:ARG:51', 'A:TYR:52'), ('A:TYR:52', 'A:PRO:53'), ('A:PRO:53', 'A:VAL:54'), ('A:VAL:54', 'A:ASN:55'), ('A:ASN:55', 'A:TYR:56'), ('A:TYR:56', 'A:GLY:57'), ('A:TYR:56', 'A:ASP:71'), ('A:TYR:56', 'A:LYS:105'), ('A:GLY:57', 'A:PHE:58'), ('A:PHE:58', 'A:ILE:59'), ('A:ILE:59', 'A:PRO:60'), ('A:PRO:60', 'A:GLN:61'), ('A:GLN:61', 'A:THR:62'), ('A:THR:62', 'A:LEU:63'), ('A:LEU:63', 'A:SER:64'), ('A:SER:64', 'A:GLY:65'), ('A:GLY:65', 'A:ASP:66'), ('A:ASP:66', 'A:GLY:67'), ('A:GLY:67', 'A:ASP:68'), ('A:ASP:68', 'A:PRO:69'), ('A:PRO:69', 'A:VAL:70'), ('A:VAL:70', 'A:ASP:71'), ('A:ASP:71', 'A:VAL:72'), ('A:ASP:71', 'A:LYS:105'), ('A:VAL:72', 'A:LEU:73'), ('A:LEU:73', 'A:VAL:74'), ('A:VAL:74', 'A:ILE:75'), ('A:ILE:75', 'A:THR:76'), ('A:THR:76', 'A:PRO:77'), ('A:PRO:77', 'A:PHE:78'), ('A:PHE:78', 'A:PRO:79'), ('A:PRO:79', 'A:LEU:80'), ('A:LEU:80', 'A:LEU:81'), ('A:LEU:81', 'A:ALA:82'), ('A:ALA:82', 'A:GLY:83'), ('A:GLY:83', 'A:SER:84'), ('A:SER:84', 'A:VAL:85'), ('A:VAL:85', 'A:VAL:86'), ('A:VAL:86', 'A:ARG:87'), ('A:ARG:87', 'A:ALA:88'), ('A:ALA:88', 'A:ARG:89'), ('A:ARG:89', 'A:ALA:90'), ('A:ARG:89', 'A:ASP:112'), ('A:ALA:90', 'A:LEU:91'), ('A:LEU:91', 'A:GLY:92'), ('A:GLY:92', 'A:MET:93'), ('A:MET:93', 'A:LEU:94'), ('A:LEU:94', 'A:LYS:95'), ('A:LYS:95', 'A:MET:96'), ('A:MET:96', 'A:THR:97'), ('A:THR:97', 'A:ASP:98'), ('A:ASP:98', 'A:GLU:99'), ('A:ASP:98', 'A:LYS:143'), ('A:GLU:99', 'A:SER:100'), ('A:SER:100', 'A:GLY:101'), ('A:GLY:101', 'A:VAL:102'), ('A:VAL:102', 'A:ASP:103'), ('A:ASP:103', 'A:ALA:104'), ('A:ASP:103', 'A:LYS:105'), ('A:ALA:104', 'A:LYS:105'), ('A:LYS:105', 'A:LEU:106'), ('A:LEU:106', 'A:VAL:107'), ('A:VAL:107', 'A:ALA:108'), ('A:ALA:108', 'A:VAL:109'), ('A:VAL:109', 'A:PRO:110'), ('A:PRO:110', 'A:HIS:111'), ('A:HIS:111', 'A:ASP:112'), ('A:ASP:112', 'A:LYS:113'), ('A:LYS:113', 'A:VAL:114'), ('A:VAL:114', 'A:CYS:115'), ('A:CYS:115', 'A:PRO:116'), ('A:CYS:115', 'A:MET:117'), ('A:PRO:116', 'A:MET:117'), ('A:MET:117', 'A:THR:118'), ('A:THR:118', 'A:ALA:119'), ('A:ALA:119', 'A:ASN:120'), ('A:ASN:120', 'A:LEU:121'), ('A:LEU:121', 'A:LYS:122'), ('A:LYS:122', 'A:SER:123'), ('A:SER:123', 'A:ILE:124'), ('A:ILE:124', 'A:ASP:125'), ('A:ASP:125', 'A:ASP:126'), ('A:ASP:126', 'A:VAL:127'), ('A:VAL:127', 'A:PRO:128'), ('A:PRO:128', 'A:ALA:129'), ('A:ALA:129', 'A:TYR:130'), ('A:TYR:130', 'A:LEU:131'), ('A:LEU:131', 'A:LYS:132'), ('A:LYS:132', 'A:ASP:133'), ('A:ASP:133', 'A:GLN:134'), ('A:GLN:134', 'A:ILE:135'), ('A:ILE:135', 'A:LYS:136'), ('A:LYS:136', 'A:HIS:137'), ('A:HIS:137', 'A:PHE:138'), ('A:PHE:138', 'A:PHE:139'), ('A:PHE:139', 'A:GLU:140'), ('A:GLU:140', 'A:GLN:141'), ('A:GLN:141', 'A:TYR:142'), ('A:TYR:142', 'A:LYS:143'), ('A:LYS:143', 'A:ALA:144'), ('A:ALA:144', 'A:LEU:145'), ('A:LEU:145', 'A:GLU:146'), ('A:GLU:146', 'A:LYS:147'), ('A:LYS:147', 'A:GLY:148'), ('A:GLY:148', 'A:LYS:149'), ('A:LYS:149', 'A:TRP:150'), ('A:TRP:150', 'A:VAL:151'), ('A:VAL:151', 'A:LYS:152'), ('A:LYS:152', 'A:VAL:153'), ('A:VAL:153', 'A:GLU:154'), ('A:GLU:154', 'A:GLY:155'), ('A:GLY:155', 'A:TRP:156'), ('A:TRP:156', 'A:ASP:157'), ('A:ASP:157', 'A:GLY:158'), ('A:GLY:158', 'A:ILE:159'), ('A:ILE:159', 'A:ASP:160'), ('A:ASP:160', 'A:ALA:161'), ('A:ALA:161', 'A:ALA:162'), ('A:ALA:162', 'A:HIS:163'), ('A:HIS:163', 'A:LYS:164'), ('A:LYS:164', 'A:GLU:165'), ('A:LYS:164', 'A:ASP:168'), ('A:GLU:165', 'A:ILE:166'), ('A:ILE:166', 'A:THR:167'), ('A:THR:167', 'A:ASP:168'), ('A:ASP:168', 'A:GLY:169'), ('A:GLY:169', 'A:VAL:170'), ('A:VAL:170', 'A:ALA:171'), ('A:ALA:171', 'A:ASN:172'), ('A:ASN:172', 'A:PHE:173'), ('A:PHE:173', 'A:LYS:174'), ('A:LYS:174', 'A:LYS:175')]\n"
     ]
    }
   ],
   "source": [
    "from graphein.protein.graphs import compute_edges\n",
    "g = compute_edges(g, get_contacts_config=None, funcs=[add_peptide_bonds, add_hydrogen_bond_interactions])\n",
    "print(g.edges)"
   ]
  },
  {
   "cell_type": "markdown",
   "metadata": {},
   "source": [
    "Let's check it out!"
   ]
  },
  {
   "cell_type": "code",
   "execution_count": 24,
   "metadata": {},
   "outputs": [
    {
     "data": {
      "application/vnd.jupyter.widget-view+json": {
       "model_id": "b8e9b5c44bb84a5491bde344dec151e9",
       "version_major": 2,
       "version_minor": 0
      },
      "text/plain": [
       "Canvas(toolbar=Toolbar(toolitems=[('Home', 'Reset original view', 'home', 'home'), ('Back', 'Back to previous …"
      ]
     },
     "metadata": {},
     "output_type": "display_data"
    }
   ],
   "source": [
    "p = plot_protein_structure_graph(G=g, angle=0, colour_edges_by=\"kind\", colour_nodes_by=\"degree\", label_node_ids=False)"
   ]
  },
  {
   "cell_type": "markdown",
   "metadata": {},
   "source": [
    "Just as we expected! From here we can apply any number of graph, node or edge metadata annotation functions that we may wish to. The advantage here is that we are not tied to the sequencing in the high-level API of:\n",
    "\n",
    "(annotate node metadata -> compute edges -> annotate graph metadata -> annotate edge metadata). \n",
    "\n",
    "This means, if we want, we can define graph annotation functions that utilise edge metadata that would otherwise not be possible. E.g. here we annotate bonds containing histidines with a 1. We then define a graph feature that looks for these bonds, sums the residue numbers involved and sums them."
   ]
  },
  {
   "cell_type": "code",
   "execution_count": 25,
   "metadata": {},
   "outputs": [
    {
     "name": "stdout",
     "output_type": "stream",
     "text": [
      "A:PRO:110 A:HIS:111 {'kind': {'peptide_bond'}, 'hist_status': 1}\n",
      "A:HIS:111 A:ASP:112 {'kind': {'peptide_bond'}, 'hist_status': 1}\n",
      "A:LYS:136 A:HIS:137 {'kind': {'peptide_bond'}, 'hist_status': 1}\n",
      "A:HIS:137 A:PHE:138 {'kind': {'peptide_bond'}, 'hist_status': 1}\n",
      "A:ALA:162 A:HIS:163 {'kind': {'peptide_bond'}, 'hist_status': 1}\n",
      "A:HIS:163 A:LYS:164 {'kind': {'peptide_bond'}, 'hist_status': 1}\n",
      "Graph-level hist feature: 1644\n"
     ]
    }
   ],
   "source": [
    "from graphein.protein.graphs import annotate_node_metadata, annotate_graph_metadata, annotate_edge_metadata\n",
    "\n",
    "# Define edge feature that assigns hist_status = 1 to any bond involving a histidine\n",
    "def bond_has_histidine_edge_feature(u, v, d):\n",
    "    if \"HIS\" in u or \"HIS\" in v:\n",
    "        d[\"hist_status\"] = 1\n",
    "    else:\n",
    "        d[\"hist_status\"] = 0\n",
    "        \n",
    "# Annotate the edge metadata\n",
    "g = annotate_edge_metadata(g, [bond_has_histidine_edge_feature])\n",
    "\n",
    "# Check it out\n",
    "for u, v, d in g.edges(data=True):\n",
    "    if d[\"hist_status\"] == 1:\n",
    "        print(u, v, d)\n",
    "\n",
    "# Annotate graph-level feature that depends on histidine_status edge feature. This adds the sum of the residue numbers involved in hist_status bonds\n",
    "def sum_hist_status_bond_residue_nums(G: nx.Graph) -> nx.Graph:\n",
    "    to_add = []\n",
    "    \n",
    "    for u, v, a in G.edges(data=True):\n",
    "        if a[\"hist_status\"] == 1:\n",
    "            to_add.append(G.nodes[u][\"residue_number\"])\n",
    "            to_add.append(G.nodes[v][\"residue_number\"])\n",
    "            \n",
    "    total = sum(to_add)\n",
    "        \n",
    "    G.graph[\"hist_bond_total_residue_number\"] = total\n",
    "    return G\n",
    "                    \n",
    "                          \n",
    "g = annotate_graph_metadata(g, [sum_hist_status_bond_residue_nums])\n",
    "print(\"Graph-level hist feature:\", g.graph[\"hist_bond_total_residue_number\"]) "
   ]
  },
  {
   "cell_type": "markdown",
   "metadata": {},
   "source": [
    "_fin_"
   ]
  }
 ],
 "metadata": {
  "kernelspec": {
   "display_name": "graphein_dev",
   "language": "python",
   "name": "graphein_dev"
  },
  "language_info": {
   "codemirror_mode": {
    "name": "ipython",
    "version": 3
   },
   "file_extension": ".py",
   "mimetype": "text/x-python",
   "name": "python",
   "nbconvert_exporter": "python",
   "pygments_lexer": "ipython3",
   "version": "3.7.9"
  }
 },
 "nbformat": 4,
 "nbformat_minor": 4
}
