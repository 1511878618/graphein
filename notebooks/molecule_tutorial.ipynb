{
 "cells": [
  {
   "cell_type": "markdown",
   "metadata": {},
   "source": [
    "# Creating Molecular Graphs in Graphein\n",
    "\n",
    "Graphein provides a set of tools for working with molecular graphs. Under the hood, we wrap RDKit functions for the graph construction. While the main format used is an nx.Graph, each graph, node & edge has its underlying [RDKit object](https://www.rdkit.org/docs/source/rdkit.Chem.rdchem.html) stored as metadata so RDKit methods can still be used.\n",
    "\n",
    "[![Open In Colab](https://colab.research.google.com/assets/colab-badge.svg)](https://colab.research.google.com/github/a-r-j/graphein/blob/master/notebooks/molecule_tutorial.ipynb)"
   ]
  },
  {
   "cell_type": "code",
   "execution_count": 1,
   "metadata": {},
   "outputs": [],
   "source": [
    "# Install Graphein if necessary\n",
    "# !pip install graphein[extras]"
   ]
  },
  {
   "cell_type": "code",
   "execution_count": 1,
   "metadata": {},
   "outputs": [
    {
     "name": "stderr",
     "output_type": "stream",
     "text": [
      "INFO:rdkit:Enabling RDKit 2022.03.1 jupyter extensions\n"
     ]
    }
   ],
   "source": [
    "import networkx as nx\n",
    "import logging\n",
    "logging.getLogger(\"matplotlib\").setLevel(logging.WARNING)\n",
    "\n",
    "import graphein.molecule as gm"
   ]
  },
  {
   "cell_type": "markdown",
   "metadata": {},
   "source": [
    "## Config\n",
    "Similar to [Protein Graph Construction](https://graphein.ai/notebooks/residue_graphs.html), configuration of small molecule graphs is controlled by a [`MoleculeGraphConfig`]() object."
   ]
  },
  {
   "cell_type": "code",
   "execution_count": 2,
   "metadata": {},
   "outputs": [
    {
     "data": {
      "text/plain": [
       "MoleculeGraphConfig(verbose=False, add_hs=False, edge_construction_functions=[<function add_fully_connected_edges at 0x7fbf40c425e0>, <function add_k_nn_edges at 0x7fbf40c42670>, <function add_distance_threshold at 0x7fbf40c42550>, <function add_atom_bonds at 0x7fbf40c420d0>], node_metadata_functions=[<function atom_type_one_hot at 0x7fbf8071b9d0>], edge_metadata_functions=None, graph_metadata_functions=None)"
      ]
     },
     "execution_count": 2,
     "metadata": {},
     "output_type": "execute_result"
    }
   ],
   "source": [
    "config = gm.MoleculeGraphConfig()\n",
    "config"
   ]
  },
  {
   "cell_type": "markdown",
   "metadata": {},
   "source": [
    "## Creating Graphs\n",
    "\n",
    "### Creating a Molecular Graph from SMILES\n",
    "\n",
    "Let's take a look at a simple molecule, acetylsalicylic acid (or aspirin as it's more commonly known)."
   ]
  },
  {
   "cell_type": "code",
   "execution_count": 3,
   "metadata": {},
   "outputs": [
    {
     "name": "stdout",
     "output_type": "stream",
     "text": [
      "CC(=O)OC1=CC=CC=C1C(=O)O\n"
     ]
    },
    {
     "data": {
      "image/png": "[encoded data removed]",
      "text/plain": [
       "<rdkit.Chem.rdchem.Mol at 0x7fbef06ee640>"
      ]
     },
     "execution_count": 3,
     "metadata": {},
     "output_type": "execute_result"
    },
    {
     "data": {
      "image/png": "[encoded data removed]",
      "text/plain": [
       "<Figure size 432x288 with 1 Axes>"
      ]
     },
     "metadata": {},
     "output_type": "display_data"
    }
   ],
   "source": [
    "graph = gm.construct_graph(smiles=\"CC(=O)OC1=CC=CC=C1C(=O)O\", config=config)\n",
    "print(graph)\n",
    "nx.draw(graph)\n",
    "graph.graph[\"rdmol\"]"
   ]
  },
  {
   "cell_type": "markdown",
   "metadata": {},
   "source": [
    "Molecule features are stored as dictionaries on the graph, nodes and edges."
   ]
  },
  {
   "cell_type": "code",
   "execution_count": 4,
   "metadata": {},
   "outputs": [
    {
     "name": "stdout",
     "output_type": "stream",
     "text": [
      "{'atomic_num': 6, 'element': 'C', 'rdmol_atom': <rdkit.Chem.rdchem.Atom object at 0x7fbef06eeb20>, 'coords': None, 'atom_type_one_hot': array([1, 0, 0, 0, 0, 0, 0, 0, 0, 0, 0])}\n",
      "{'atomic_num': 6, 'element': 'C', 'rdmol_atom': <rdkit.Chem.rdchem.Atom object at 0x7fbef06ee700>, 'coords': None, 'atom_type_one_hot': array([1, 0, 0, 0, 0, 0, 0, 0, 0, 0, 0])}\n",
      "{'atomic_num': 8, 'element': 'O', 'rdmol_atom': <rdkit.Chem.rdchem.Atom object at 0x7fbef06ee820>, 'coords': None, 'atom_type_one_hot': array([0, 0, 1, 0, 0, 0, 0, 0, 0, 0, 0])}\n",
      "{'atomic_num': 8, 'element': 'O', 'rdmol_atom': <rdkit.Chem.rdchem.Atom object at 0x7fbef06ee7c0>, 'coords': None, 'atom_type_one_hot': array([0, 0, 1, 0, 0, 0, 0, 0, 0, 0, 0])}\n",
      "{'atomic_num': 6, 'element': 'C', 'rdmol_atom': <rdkit.Chem.rdchem.Atom object at 0x7fbef06ee880>, 'coords': None, 'atom_type_one_hot': array([1, 0, 0, 0, 0, 0, 0, 0, 0, 0, 0])}\n",
      "{'atomic_num': 6, 'element': 'C', 'rdmol_atom': <rdkit.Chem.rdchem.Atom object at 0x7fbef06ee8e0>, 'coords': None, 'atom_type_one_hot': array([1, 0, 0, 0, 0, 0, 0, 0, 0, 0, 0])}\n",
      "{'atomic_num': 6, 'element': 'C', 'rdmol_atom': <rdkit.Chem.rdchem.Atom object at 0x7fbef06ee940>, 'coords': None, 'atom_type_one_hot': array([1, 0, 0, 0, 0, 0, 0, 0, 0, 0, 0])}\n",
      "{'atomic_num': 6, 'element': 'C', 'rdmol_atom': <rdkit.Chem.rdchem.Atom object at 0x7fbef06ee9a0>, 'coords': None, 'atom_type_one_hot': array([1, 0, 0, 0, 0, 0, 0, 0, 0, 0, 0])}\n",
      "{'atomic_num': 6, 'element': 'C', 'rdmol_atom': <rdkit.Chem.rdchem.Atom object at 0x7fbef06eea00>, 'coords': None, 'atom_type_one_hot': array([1, 0, 0, 0, 0, 0, 0, 0, 0, 0, 0])}\n",
      "{'atomic_num': 6, 'element': 'C', 'rdmol_atom': <rdkit.Chem.rdchem.Atom object at 0x7fbef06eea60>, 'coords': None, 'atom_type_one_hot': array([1, 0, 0, 0, 0, 0, 0, 0, 0, 0, 0])}\n",
      "{'atomic_num': 6, 'element': 'C', 'rdmol_atom': <rdkit.Chem.rdchem.Atom object at 0x7fbef06eeac0>, 'coords': None, 'atom_type_one_hot': array([1, 0, 0, 0, 0, 0, 0, 0, 0, 0, 0])}\n",
      "{'atomic_num': 8, 'element': 'O', 'rdmol_atom': <rdkit.Chem.rdchem.Atom object at 0x7fbef06eeb80>, 'coords': None, 'atom_type_one_hot': array([0, 0, 1, 0, 0, 0, 0, 0, 0, 0, 0])}\n",
      "{'atomic_num': 8, 'element': 'O', 'rdmol_atom': <rdkit.Chem.rdchem.Atom object at 0x7fbef06eebe0>, 'coords': None, 'atom_type_one_hot': array([0, 0, 1, 0, 0, 0, 0, 0, 0, 0, 0])}\n"
     ]
    }
   ],
   "source": [
    "# Node metadata\n",
    "for n, d in graph.nodes(data=True):\n",
    "    print(d)"
   ]
  },
  {
   "cell_type": "code",
   "execution_count": 5,
   "metadata": {},
   "outputs": [
    {
     "name": "stdout",
     "output_type": "stream",
     "text": [
      "C:0 C:1 {'kind': {'bond'}, 'bond': <rdkit.Chem.rdchem.Bond object at 0x7fbf80732220>}\n",
      "C:1 O:2 {'kind': {'bond'}, 'bond': <rdkit.Chem.rdchem.Bond object at 0x7fbf80732280>}\n",
      "C:1 O:3 {'kind': {'bond'}, 'bond': <rdkit.Chem.rdchem.Bond object at 0x7fbf807322e0>}\n",
      "O:3 C:4 {'kind': {'bond'}, 'bond': <rdkit.Chem.rdchem.Bond object at 0x7fbf80732340>}\n",
      "C:4 C:5 {'kind': {'bond'}, 'bond': <rdkit.Chem.rdchem.Bond object at 0x7fbf807323a0>}\n",
      "C:4 C:9 {'kind': {'bond'}, 'bond': <rdkit.Chem.rdchem.Bond object at 0x7fbf807326a0>}\n",
      "C:5 C:6 {'kind': {'bond'}, 'bond': <rdkit.Chem.rdchem.Bond object at 0x7fbf80732400>}\n",
      "C:6 C:7 {'kind': {'bond'}, 'bond': <rdkit.Chem.rdchem.Bond object at 0x7fbf80732460>}\n",
      "C:7 C:8 {'kind': {'bond'}, 'bond': <rdkit.Chem.rdchem.Bond object at 0x7fbf807324c0>}\n",
      "C:8 C:9 {'kind': {'bond'}, 'bond': <rdkit.Chem.rdchem.Bond object at 0x7fbf80732520>}\n",
      "C:9 C:10 {'kind': {'bond'}, 'bond': <rdkit.Chem.rdchem.Bond object at 0x7fbf80732580>}\n",
      "C:10 O:11 {'kind': {'bond'}, 'bond': <rdkit.Chem.rdchem.Bond object at 0x7fbf807325e0>}\n",
      "C:10 O:12 {'kind': {'bond'}, 'bond': <rdkit.Chem.rdchem.Bond object at 0x7fbf80732640>}\n"
     ]
    }
   ],
   "source": [
    "# Edge metadata\n",
    "for u, v, d in graph.edges(data=True):\n",
    "    print(u, v, d)"
   ]
  },
  {
   "cell_type": "markdown",
   "metadata": {},
   "source": [
    "### Creating a Molecular Graph from an SDF File\n",
    "\n",
    "As SDFs & Mol2 files provide coordinates, we can draw the graph in 3D."
   ]
  },
  {
   "cell_type": "code",
   "execution_count": 14,
   "metadata": {},
   "outputs": [
    {
     "name": "stdout",
     "output_type": "stream",
     "text": [
      "<class 'pathlib.Path'>\n",
      "long_test\n"
     ]
    },
    {
     "data": {
      "image/png": "[encoded data removed]",
      "text/plain": [
       "<rdkit.Chem.rdchem.Mol at 0x7fbef06d82e0>"
      ]
     },
     "execution_count": 14,
     "metadata": {},
     "output_type": "execute_result"
    }
   ],
   "source": [
    "import pkg_resources\n",
    "\n",
    "SDF_PATH = pkg_resources.resource_filename(\"graphein\", \"../tests/molecule/test_data/long_test.sdf\")\n",
    "\n",
    "graph = gm.construct_graph(sdf_path=SDF_PATH, config=config)\n",
    "\n",
    "print(graph)\n",
    "graph.graph[\"rdmol\"]"
   ]
  },
  {
   "cell_type": "code",
   "execution_count": 10,
   "metadata": {},
   "outputs": [
    {
     "data": {
      "application/vnd.plotly.v1+json": {
       "config": {
        "plotlyServerURL": "https://plot.ly"
       },
       "data": [
        {
         "hoverinfo": "text+x+y+z",
         "marker": {
          "color": [
           [
            0.610667,
            0.090204,
            0.619951,
            1
           ],
           [
            0.050383,
            0.029803,
            0.527975,
            1
           ],
           [
            0.050383,
            0.029803,
            0.527975,
            1
           ],
           [
            0.050383,
            0.029803,
            0.527975,
            1
           ],
           [
            0.050383,
            0.029803,
            0.527975,
            1
           ],
           [
            0.050383,
            0.029803,
            0.527975,
            1
           ],
           [
            0.050383,
            0.029803,
            0.527975,
            1
           ],
           [
            0.050383,
            0.029803,
            0.527975,
            1
           ],
           [
            0.050383,
            0.029803,
            0.527975,
            1
           ],
           [
            0.928329,
            0.472975,
            0.326067,
            1
           ],
           [
            0.050383,
            0.029803,
            0.527975,
            1
           ],
           [
            0.610667,
            0.090204,
            0.619951,
            1
           ],
           [
            0.050383,
            0.029803,
            0.527975,
            1
           ],
           [
            0.050383,
            0.029803,
            0.527975,
            1
           ],
           [
            0.050383,
            0.029803,
            0.527975,
            1
           ],
           [
            0.050383,
            0.029803,
            0.527975,
            1
           ],
           [
            0.050383,
            0.029803,
            0.527975,
            1
           ],
           [
            0.050383,
            0.029803,
            0.527975,
            1
           ],
           [
            0.050383,
            0.029803,
            0.527975,
            1
           ],
           [
            0.928329,
            0.472975,
            0.326067,
            1
           ]
          ],
          "opacity": 0.7,
          "size": [
           21,
           22,
           23,
           23,
           22,
           22,
           22,
           22,
           22,
           22,
           23,
           23,
           22,
           22,
           22,
           22,
           22,
           22,
           22,
           21
          ],
          "symbol": "circle"
         },
         "mode": "markers",
         "text": [
          "N0",
          "C1",
          "C2",
          "C3",
          "C4",
          "C5",
          "C6",
          "C7",
          "C8",
          "O9",
          "C10",
          "N11",
          "C12",
          "C13",
          "C14",
          "C15",
          "C16",
          "C17",
          "C18",
          "O19"
         ],
         "type": "scatter3d",
         "x": [
          0.0827,
          -0.2337,
          -0.5725,
          -1.9878,
          -3.0104,
          -4.3161,
          -4.6176,
          -3.6151,
          -2.3087,
          0.3185,
          1.5766,
          1.4085,
          2.0266,
          1.6039,
          0.6968,
          0.5918,
          2.5496,
          3.2834,
          4.2003,
          4.3897
         ],
         "y": [
          -2.9412,
          -2.1602,
          -1.178,
          -0.6494,
          -1.0888,
          -0.6181,
          0.2938,
          0.738,
          0.2699,
          -0.048,
          -0.3002,
          -0.2613,
          -1.1143,
          -0.7925,
          0.2869,
          0.5945,
          0.7131,
          1.6016,
          2.5282,
          2.502
         ],
         "z": [
          2.6643,
          1.8642,
          0.8083,
          0.9699,
          0.1126,
          0.2646,
          1.2738,
          2.1328,
          1.9837,
          0.8373,
          0.205,
          -1.2546,
          -2.1377,
          -3.409,
          -3.2936,
          -1.9555,
          0.742,
          0.0514,
          0.7561,
          1.9648
         ]
        },
        {
         "hoverinfo": "text",
         "line": {
          "color": [
           [
            0.050383,
            0.029803,
            0.527975,
            1
           ],
           [
            0.050383,
            0.029803,
            0.527975,
            1
           ],
           [
            0.050383,
            0.029803,
            0.527975,
            1
           ],
           [
            0.050383,
            0.029803,
            0.527975,
            1
           ],
           [
            0.050383,
            0.029803,
            0.527975,
            1
           ],
           [
            0.050383,
            0.029803,
            0.527975,
            1
           ],
           [
            0.050383,
            0.029803,
            0.527975,
            1
           ],
           [
            0.050383,
            0.029803,
            0.527975,
            1
           ],
           [
            0.050383,
            0.029803,
            0.527975,
            1
           ],
           [
            0.050383,
            0.029803,
            0.527975,
            1
           ],
           [
            0.050383,
            0.029803,
            0.527975,
            1
           ],
           [
            0.050383,
            0.029803,
            0.527975,
            1
           ],
           [
            0.050383,
            0.029803,
            0.527975,
            1
           ],
           [
            0.050383,
            0.029803,
            0.527975,
            1
           ],
           [
            0.050383,
            0.029803,
            0.527975,
            1
           ],
           [
            0.050383,
            0.029803,
            0.527975,
            1
           ],
           [
            0.050383,
            0.029803,
            0.527975,
            1
           ],
           [
            0.050383,
            0.029803,
            0.527975,
            1
           ],
           [
            0.050383,
            0.029803,
            0.527975,
            1
           ],
           [
            0.050383,
            0.029803,
            0.527975,
            1
           ],
           [
            0.050383,
            0.029803,
            0.527975,
            1
           ],
           [
            0.050383,
            0.029803,
            0.527975,
            1
           ],
           [
            0.050383,
            0.029803,
            0.527975,
            1
           ],
           [
            0.050383,
            0.029803,
            0.527975,
            1
           ],
           [
            0.050383,
            0.029803,
            0.527975,
            1
           ],
           [
            0.050383,
            0.029803,
            0.527975,
            1
           ],
           [
            0.050383,
            0.029803,
            0.527975,
            1
           ],
           [
            0.050383,
            0.029803,
            0.527975,
            1
           ],
           [
            0.050383,
            0.029803,
            0.527975,
            1
           ],
           [
            0.050383,
            0.029803,
            0.527975,
            1
           ],
           [
            0.050383,
            0.029803,
            0.527975,
            1
           ],
           [
            0.050383,
            0.029803,
            0.527975,
            1
           ],
           [
            0.050383,
            0.029803,
            0.527975,
            1
           ],
           [
            0.050383,
            0.029803,
            0.527975,
            1
           ],
           [
            0.050383,
            0.029803,
            0.527975,
            1
           ],
           [
            0.050383,
            0.029803,
            0.527975,
            1
           ],
           [
            0.050383,
            0.029803,
            0.527975,
            1
           ],
           [
            0.050383,
            0.029803,
            0.527975,
            1
           ],
           [
            0.050383,
            0.029803,
            0.527975,
            1
           ],
           [
            0.050383,
            0.029803,
            0.527975,
            1
           ],
           [
            0.050383,
            0.029803,
            0.527975,
            1
           ],
           [
            0.050383,
            0.029803,
            0.527975,
            1
           ],
           [
            0.050383,
            0.029803,
            0.527975,
            1
           ],
           [
            0.050383,
            0.029803,
            0.527975,
            1
           ],
           [
            0.050383,
            0.029803,
            0.527975,
            1
           ],
           [
            0.050383,
            0.029803,
            0.527975,
            1
           ],
           [
            0.050383,
            0.029803,
            0.527975,
            1
           ],
           [
            0.050383,
            0.029803,
            0.527975,
            1
           ],
           [
            0.050383,
            0.029803,
            0.527975,
            1
           ],
           [
            0.050383,
            0.029803,
            0.527975,
            1
           ],
           [
            0.050383,
            0.029803,
            0.527975,
            1
           ],
           [
            0.050383,
            0.029803,
            0.527975,
            1
           ],
           [
            0.050383,
            0.029803,
            0.527975,
            1
           ],
           [
            0.050383,
            0.029803,
            0.527975,
            1
           ],
           [
            0.050383,
            0.029803,
            0.527975,
            1
           ],
           [
            0.050383,
            0.029803,
            0.527975,
            1
           ],
           [
            0.050383,
            0.029803,
            0.527975,
            1
           ],
           [
            0.050383,
            0.029803,
            0.527975,
            1
           ],
           [
            0.050383,
            0.029803,
            0.527975,
            1
           ],
           [
            0.050383,
            0.029803,
            0.527975,
            1
           ],
           [
            0.050383,
            0.029803,
            0.527975,
            1
           ],
           [
            0.050383,
            0.029803,
            0.527975,
            1
           ],
           [
            0.050383,
            0.029803,
            0.527975,
            1
           ]
          ],
          "width": 10
         },
         "mode": "lines",
         "text": [
          "bond",
          "bond",
          "bond",
          "bond",
          "bond",
          "bond",
          "bond",
          "bond",
          "bond",
          "bond",
          "bond",
          "bond",
          "bond",
          "bond",
          "bond",
          "bond",
          "bond",
          "bond",
          "bond",
          "bond",
          "bond",
          "bond",
          "bond",
          "bond",
          "bond",
          "bond",
          "bond",
          "bond",
          "bond",
          "bond",
          "bond",
          "bond",
          "bond",
          "bond",
          "bond",
          "bond",
          "bond",
          "bond",
          "bond",
          "bond",
          "bond",
          "bond",
          "bond",
          "bond",
          "bond",
          "bond",
          "bond",
          "bond",
          "bond",
          "bond",
          "bond",
          "bond",
          "bond",
          "bond",
          "bond",
          "bond",
          "bond",
          "bond",
          "bond",
          "bond",
          "bond",
          "bond",
          "bond"
         ],
         "type": "scatter3d",
         "x": [
          0.0827,
          -0.2337,
          null,
          -0.2337,
          -0.5725,
          null,
          -0.5725,
          -1.9878,
          null,
          -0.5725,
          0.3185,
          null,
          -1.9878,
          -3.0104,
          null,
          -1.9878,
          -2.3087,
          null,
          -3.0104,
          -4.3161,
          null,
          -4.3161,
          -4.6176,
          null,
          -4.6176,
          -3.6151,
          null,
          -3.6151,
          -2.3087,
          null,
          0.3185,
          1.5766,
          null,
          1.5766,
          1.4085,
          null,
          1.5766,
          2.5496,
          null,
          1.4085,
          2.0266,
          null,
          1.4085,
          0.5918,
          null,
          2.0266,
          1.6039,
          null,
          1.6039,
          0.6968,
          null,
          0.6968,
          0.5918,
          null,
          2.5496,
          3.2834,
          null,
          3.2834,
          4.2003,
          null,
          4.2003,
          4.3897,
          null
         ],
         "y": [
          -2.9412,
          -2.1602,
          null,
          -2.1602,
          -1.178,
          null,
          -1.178,
          -0.6494,
          null,
          -1.178,
          -0.048,
          null,
          -0.6494,
          -1.0888,
          null,
          -0.6494,
          0.2699,
          null,
          -1.0888,
          -0.6181,
          null,
          -0.6181,
          0.2938,
          null,
          0.2938,
          0.738,
          null,
          0.738,
          0.2699,
          null,
          -0.048,
          -0.3002,
          null,
          -0.3002,
          -0.2613,
          null,
          -0.3002,
          0.7131,
          null,
          -0.2613,
          -1.1143,
          null,
          -0.2613,
          0.5945,
          null,
          -1.1143,
          -0.7925,
          null,
          -0.7925,
          0.2869,
          null,
          0.2869,
          0.5945,
          null,
          0.7131,
          1.6016,
          null,
          1.6016,
          2.5282,
          null,
          2.5282,
          2.502,
          null
         ],
         "z": [
          2.6643,
          1.8642,
          null,
          1.8642,
          0.8083,
          null,
          0.8083,
          0.9699,
          null,
          0.8083,
          0.8373,
          null,
          0.9699,
          0.1126,
          null,
          0.9699,
          1.9837,
          null,
          0.1126,
          0.2646,
          null,
          0.2646,
          1.2738,
          null,
          1.2738,
          2.1328,
          null,
          2.1328,
          1.9837,
          null,
          0.8373,
          0.205,
          null,
          0.205,
          -1.2546,
          null,
          0.205,
          0.742,
          null,
          -1.2546,
          -2.1377,
          null,
          -1.2546,
          -1.9555,
          null,
          -2.1377,
          -3.409,
          null,
          -3.409,
          -3.2936,
          null,
          -3.2936,
          -1.9555,
          null,
          0.742,
          0.0514,
          null,
          0.0514,
          0.7561,
          null,
          0.7561,
          1.9648,
          null
         ]
        }
       ],
       "layout": {
        "height": 650,
        "margin": {
         "t": 100
        },
        "scene": {
         "xaxis": {
          "showbackground": false,
          "showgrid": false,
          "showline": false,
          "showticklabels": false,
          "title": {
           "text": ""
          },
          "zeroline": false
         },
         "yaxis": {
          "showbackground": false,
          "showgrid": false,
          "showline": false,
          "showticklabels": false,
          "title": {
           "text": ""
          },
          "zeroline": false
         },
         "zaxis": {
          "showbackground": false,
          "showgrid": false,
          "showline": false,
          "showticklabels": false,
          "title": {
           "text": ""
          },
          "zeroline": false
         }
        },
        "showlegend": false,
        "template": {
         "data": {
          "bar": [
           {
            "error_x": {
             "color": "#2a3f5f"
            },
            "error_y": {
             "color": "#2a3f5f"
            },
            "marker": {
             "line": {
              "color": "#E5ECF6",
              "width": 0.5
             },
             "pattern": {
              "fillmode": "overlay",
              "size": 10,
              "solidity": 0.2
             }
            },
            "type": "bar"
           }
          ],
          "barpolar": [
           {
            "marker": {
             "line": {
              "color": "#E5ECF6",
              "width": 0.5
             },
             "pattern": {
              "fillmode": "overlay",
              "size": 10,
              "solidity": 0.2
             }
            },
            "type": "barpolar"
           }
          ],
          "carpet": [
           {
            "aaxis": {
             "endlinecolor": "#2a3f5f",
             "gridcolor": "white",
             "linecolor": "white",
             "minorgridcolor": "white",
             "startlinecolor": "#2a3f5f"
            },
            "baxis": {
             "endlinecolor": "#2a3f5f",
             "gridcolor": "white",
             "linecolor": "white",
             "minorgridcolor": "white",
             "startlinecolor": "#2a3f5f"
            },
            "type": "carpet"
           }
          ],
          "choropleth": [
           {
            "colorbar": {
             "outlinewidth": 0,
             "ticks": ""
            },
            "type": "choropleth"
           }
          ],
          "contour": [
           {
            "colorbar": {
             "outlinewidth": 0,
             "ticks": ""
            },
            "colorscale": [
             [
              0,
              "#0d0887"
             ],
             [
              0.1111111111111111,
              "#46039f"
             ],
             [
              0.2222222222222222,
              "#7201a8"
             ],
             [
              0.3333333333333333,
              "#9c179e"
             ],
             [
              0.4444444444444444,
              "#bd3786"
             ],
             [
              0.5555555555555556,
              "#d8576b"
             ],
             [
              0.6666666666666666,
              "#ed7953"
             ],
             [
              0.7777777777777778,
              "#fb9f3a"
             ],
             [
              0.8888888888888888,
              "#fdca26"
             ],
             [
              1,
              "#f0f921"
             ]
            ],
            "type": "contour"
           }
          ],
          "contourcarpet": [
           {
            "colorbar": {
             "outlinewidth": 0,
             "ticks": ""
            },
            "type": "contourcarpet"
           }
          ],
          "heatmap": [
           {
            "colorbar": {
             "outlinewidth": 0,
             "ticks": ""
            },
            "colorscale": [
             [
              0,
              "#0d0887"
             ],
             [
              0.1111111111111111,
              "#46039f"
             ],
             [
              0.2222222222222222,
              "#7201a8"
             ],
             [
              0.3333333333333333,
              "#9c179e"
             ],
             [
              0.4444444444444444,
              "#bd3786"
             ],
             [
              0.5555555555555556,
              "#d8576b"
             ],
             [
              0.6666666666666666,
              "#ed7953"
             ],
             [
              0.7777777777777778,
              "#fb9f3a"
             ],
             [
              0.8888888888888888,
              "#fdca26"
             ],
             [
              1,
              "#f0f921"
             ]
            ],
            "type": "heatmap"
           }
          ],
          "heatmapgl": [
           {
            "colorbar": {
             "outlinewidth": 0,
             "ticks": ""
            },
            "colorscale": [
             [
              0,
              "#0d0887"
             ],
             [
              0.1111111111111111,
              "#46039f"
             ],
             [
              0.2222222222222222,
              "#7201a8"
             ],
             [
              0.3333333333333333,
              "#9c179e"
             ],
             [
              0.4444444444444444,
              "#bd3786"
             ],
             [
              0.5555555555555556,
              "#d8576b"
             ],
             [
              0.6666666666666666,
              "#ed7953"
             ],
             [
              0.7777777777777778,
              "#fb9f3a"
             ],
             [
              0.8888888888888888,
              "#fdca26"
             ],
             [
              1,
              "#f0f921"
             ]
            ],
            "type": "heatmapgl"
           }
          ],
          "histogram": [
           {
            "marker": {
             "pattern": {
              "fillmode": "overlay",
              "size": 10,
              "solidity": 0.2
             }
            },
            "type": "histogram"
           }
          ],
          "histogram2d": [
           {
            "colorbar": {
             "outlinewidth": 0,
             "ticks": ""
            },
            "colorscale": [
             [
              0,
              "#0d0887"
             ],
             [
              0.1111111111111111,
              "#46039f"
             ],
             [
              0.2222222222222222,
              "#7201a8"
             ],
             [
              0.3333333333333333,
              "#9c179e"
             ],
             [
              0.4444444444444444,
              "#bd3786"
             ],
             [
              0.5555555555555556,
              "#d8576b"
             ],
             [
              0.6666666666666666,
              "#ed7953"
             ],
             [
              0.7777777777777778,
              "#fb9f3a"
             ],
             [
              0.8888888888888888,
              "#fdca26"
             ],
             [
              1,
              "#f0f921"
             ]
            ],
            "type": "histogram2d"
           }
          ],
          "histogram2dcontour": [
           {
            "colorbar": {
             "outlinewidth": 0,
             "ticks": ""
            },
            "colorscale": [
             [
              0,
              "#0d0887"
             ],
             [
              0.1111111111111111,
              "#46039f"
             ],
             [
              0.2222222222222222,
              "#7201a8"
             ],
             [
              0.3333333333333333,
              "#9c179e"
             ],
             [
              0.4444444444444444,
              "#bd3786"
             ],
             [
              0.5555555555555556,
              "#d8576b"
             ],
             [
              0.6666666666666666,
              "#ed7953"
             ],
             [
              0.7777777777777778,
              "#fb9f3a"
             ],
             [
              0.8888888888888888,
              "#fdca26"
             ],
             [
              1,
              "#f0f921"
             ]
            ],
            "type": "histogram2dcontour"
           }
          ],
          "mesh3d": [
           {
            "colorbar": {
             "outlinewidth": 0,
             "ticks": ""
            },
            "type": "mesh3d"
           }
          ],
          "parcoords": [
           {
            "line": {
             "colorbar": {
              "outlinewidth": 0,
              "ticks": ""
             }
            },
            "type": "parcoords"
           }
          ],
          "pie": [
           {
            "automargin": true,
            "type": "pie"
           }
          ],
          "scatter": [
           {
            "marker": {
             "colorbar": {
              "outlinewidth": 0,
              "ticks": ""
             }
            },
            "type": "scatter"
           }
          ],
          "scatter3d": [
           {
            "line": {
             "colorbar": {
              "outlinewidth": 0,
              "ticks": ""
             }
            },
            "marker": {
             "colorbar": {
              "outlinewidth": 0,
              "ticks": ""
             }
            },
            "type": "scatter3d"
           }
          ],
          "scattercarpet": [
           {
            "marker": {
             "colorbar": {
              "outlinewidth": 0,
              "ticks": ""
             }
            },
            "type": "scattercarpet"
           }
          ],
          "scattergeo": [
           {
            "marker": {
             "colorbar": {
              "outlinewidth": 0,
              "ticks": ""
             }
            },
            "type": "scattergeo"
           }
          ],
          "scattergl": [
           {
            "marker": {
             "colorbar": {
              "outlinewidth": 0,
              "ticks": ""
             }
            },
            "type": "scattergl"
           }
          ],
          "scattermapbox": [
           {
            "marker": {
             "colorbar": {
              "outlinewidth": 0,
              "ticks": ""
             }
            },
            "type": "scattermapbox"
           }
          ],
          "scatterpolar": [
           {
            "marker": {
             "colorbar": {
              "outlinewidth": 0,
              "ticks": ""
             }
            },
            "type": "scatterpolar"
           }
          ],
          "scatterpolargl": [
           {
            "marker": {
             "colorbar": {
              "outlinewidth": 0,
              "ticks": ""
             }
            },
            "type": "scatterpolargl"
           }
          ],
          "scatterternary": [
           {
            "marker": {
             "colorbar": {
              "outlinewidth": 0,
              "ticks": ""
             }
            },
            "type": "scatterternary"
           }
          ],
          "surface": [
           {
            "colorbar": {
             "outlinewidth": 0,
             "ticks": ""
            },
            "colorscale": [
             [
              0,
              "#0d0887"
             ],
             [
              0.1111111111111111,
              "#46039f"
             ],
             [
              0.2222222222222222,
              "#7201a8"
             ],
             [
              0.3333333333333333,
              "#9c179e"
             ],
             [
              0.4444444444444444,
              "#bd3786"
             ],
             [
              0.5555555555555556,
              "#d8576b"
             ],
             [
              0.6666666666666666,
              "#ed7953"
             ],
             [
              0.7777777777777778,
              "#fb9f3a"
             ],
             [
              0.8888888888888888,
              "#fdca26"
             ],
             [
              1,
              "#f0f921"
             ]
            ],
            "type": "surface"
           }
          ],
          "table": [
           {
            "cells": {
             "fill": {
              "color": "#EBF0F8"
             },
             "line": {
              "color": "white"
             }
            },
            "header": {
             "fill": {
              "color": "#C8D4E3"
             },
             "line": {
              "color": "white"
             }
            },
            "type": "table"
           }
          ]
         },
         "layout": {
          "annotationdefaults": {
           "arrowcolor": "#2a3f5f",
           "arrowhead": 0,
           "arrowwidth": 1
          },
          "autotypenumbers": "strict",
          "coloraxis": {
           "colorbar": {
            "outlinewidth": 0,
            "ticks": ""
           }
          },
          "colorscale": {
           "diverging": [
            [
             0,
             "#8e0152"
            ],
            [
             0.1,
             "#c51b7d"
            ],
            [
             0.2,
             "#de77ae"
            ],
            [
             0.3,
             "#f1b6da"
            ],
            [
             0.4,
             "#fde0ef"
            ],
            [
             0.5,
             "#f7f7f7"
            ],
            [
             0.6,
             "#e6f5d0"
            ],
            [
             0.7,
             "#b8e186"
            ],
            [
             0.8,
             "#7fbc41"
            ],
            [
             0.9,
             "#4d9221"
            ],
            [
             1,
             "#276419"
            ]
           ],
           "sequential": [
            [
             0,
             "#0d0887"
            ],
            [
             0.1111111111111111,
             "#46039f"
            ],
            [
             0.2222222222222222,
             "#7201a8"
            ],
            [
             0.3333333333333333,
             "#9c179e"
            ],
            [
             0.4444444444444444,
             "#bd3786"
            ],
            [
             0.5555555555555556,
             "#d8576b"
            ],
            [
             0.6666666666666666,
             "#ed7953"
            ],
            [
             0.7777777777777778,
             "#fb9f3a"
            ],
            [
             0.8888888888888888,
             "#fdca26"
            ],
            [
             1,
             "#f0f921"
            ]
           ],
           "sequentialminus": [
            [
             0,
             "#0d0887"
            ],
            [
             0.1111111111111111,
             "#46039f"
            ],
            [
             0.2222222222222222,
             "#7201a8"
            ],
            [
             0.3333333333333333,
             "#9c179e"
            ],
            [
             0.4444444444444444,
             "#bd3786"
            ],
            [
             0.5555555555555556,
             "#d8576b"
            ],
            [
             0.6666666666666666,
             "#ed7953"
            ],
            [
             0.7777777777777778,
             "#fb9f3a"
            ],
            [
             0.8888888888888888,
             "#fdca26"
            ],
            [
             1,
             "#f0f921"
            ]
           ]
          },
          "colorway": [
           "#636efa",
           "#EF553B",
           "#00cc96",
           "#ab63fa",
           "#FFA15A",
           "#19d3f3",
           "#FF6692",
           "#B6E880",
           "#FF97FF",
           "#FECB52"
          ],
          "font": {
           "color": "#2a3f5f"
          },
          "geo": {
           "bgcolor": "white",
           "lakecolor": "white",
           "landcolor": "#E5ECF6",
           "showlakes": true,
           "showland": true,
           "subunitcolor": "white"
          },
          "hoverlabel": {
           "align": "left"
          },
          "hovermode": "closest",
          "mapbox": {
           "style": "light"
          },
          "paper_bgcolor": "white",
          "plot_bgcolor": "#E5ECF6",
          "polar": {
           "angularaxis": {
            "gridcolor": "white",
            "linecolor": "white",
            "ticks": ""
           },
           "bgcolor": "#E5ECF6",
           "radialaxis": {
            "gridcolor": "white",
            "linecolor": "white",
            "ticks": ""
           }
          },
          "scene": {
           "xaxis": {
            "backgroundcolor": "#E5ECF6",
            "gridcolor": "white",
            "gridwidth": 2,
            "linecolor": "white",
            "showbackground": true,
            "ticks": "",
            "zerolinecolor": "white"
           },
           "yaxis": {
            "backgroundcolor": "#E5ECF6",
            "gridcolor": "white",
            "gridwidth": 2,
            "linecolor": "white",
            "showbackground": true,
            "ticks": "",
            "zerolinecolor": "white"
           },
           "zaxis": {
            "backgroundcolor": "#E5ECF6",
            "gridcolor": "white",
            "gridwidth": 2,
            "linecolor": "white",
            "showbackground": true,
            "ticks": "",
            "zerolinecolor": "white"
           }
          },
          "shapedefaults": {
           "line": {
            "color": "#2a3f5f"
           }
          },
          "ternary": {
           "aaxis": {
            "gridcolor": "white",
            "linecolor": "white",
            "ticks": ""
           },
           "baxis": {
            "gridcolor": "white",
            "linecolor": "white",
            "ticks": ""
           },
           "bgcolor": "#E5ECF6",
           "caxis": {
            "gridcolor": "white",
            "linecolor": "white",
            "ticks": ""
           }
          },
          "title": {
           "x": 0.05
          },
          "xaxis": {
           "automargin": true,
           "gridcolor": "white",
           "linecolor": "white",
           "ticks": "",
           "title": {
            "standoff": 15
           },
           "zerolinecolor": "white",
           "zerolinewidth": 2
          },
          "yaxis": {
           "automargin": true,
           "gridcolor": "white",
           "linecolor": "white",
           "ticks": "",
           "title": {
            "standoff": 15
           },
           "zerolinecolor": "white",
           "zerolinewidth": 2
          }
         }
        },
        "width": 620
       }
      }
     },
     "metadata": {},
     "output_type": "display_data"
    }
   ],
   "source": [
    "gm.plotly_molecular_graph(graph)"
   ]
  },
  {
   "cell_type": "markdown",
   "metadata": {},
   "source": [
    "### Creating a Molecular Graph from a Mol2 File"
   ]
  },
  {
   "cell_type": "code",
   "execution_count": 22,
   "metadata": {},
   "outputs": [
    {
     "name": "stdout",
     "output_type": "stream",
     "text": [
      "short_test\n"
     ]
    },
    {
     "data": {
      "image/png": "[encoded data removed]",
      "text/plain": [
       "<rdkit.Chem.rdchem.Mol at 0x7fbf30c08100>"
      ]
     },
     "execution_count": 22,
     "metadata": {},
     "output_type": "execute_result"
    }
   ],
   "source": [
    "MOL2_PATH = pkg_resources.resource_filename(\"graphein\", \"../tests/molecule/test_data/short_test.mol2\")\n",
    "\n",
    "graph = gm.construct_graph(mol2_path=MOL2_PATH, config=config)\n",
    "print(graph)\n",
    "graph.graph[\"rdmol\"]"
   ]
  },
  {
   "cell_type": "code",
   "execution_count": 23,
   "metadata": {},
   "outputs": [
    {
     "data": {
      "application/vnd.plotly.v1+json": {
       "config": {
        "plotlyServerURL": "https://plot.ly"
       },
       "data": [
        {
         "hoverinfo": "text+x+y+z",
         "marker": {
          "color": [
           [
            0.050383,
            0.029803,
            0.527975,
            1
           ],
           [
            0.050383,
            0.029803,
            0.527975,
            1
           ],
           [
            0.798216,
            0.280197,
            0.469538,
            1
           ]
          ],
          "opacity": 0.7,
          "size": [
           21,
           22,
           21
          ],
          "symbol": "circle"
         },
         "mode": "markers",
         "text": [
          "C:0",
          "C:1",
          "N:2"
         ],
         "type": "scatter3d",
         "x": [
          0.9862,
          -0.2052,
          -1.4201
         ],
         "y": [
          -0.257,
          0.2236,
          0.2357
         ],
         "z": [
          -0.1905,
          0.6206,
          -0.1847
         ]
        },
        {
         "hoverinfo": "text",
         "line": {
          "color": [
           [
            0.050383,
            0.029803,
            0.527975,
            1
           ],
           [
            0.050383,
            0.029803,
            0.527975,
            1
           ],
           [
            0.050383,
            0.029803,
            0.527975,
            1
           ],
           [
            0.050383,
            0.029803,
            0.527975,
            1
           ],
           [
            0.050383,
            0.029803,
            0.527975,
            1
           ],
           [
            0.050383,
            0.029803,
            0.527975,
            1
           ]
          ],
          "width": 10
         },
         "mode": "lines",
         "text": [
          "bond",
          "bond",
          "bond",
          "bond",
          "bond",
          "bond"
         ],
         "type": "scatter3d",
         "x": [
          0.9862,
          -0.2052,
          null,
          -0.2052,
          -1.4201,
          null
         ],
         "y": [
          -0.257,
          0.2236,
          null,
          0.2236,
          0.2357,
          null
         ],
         "z": [
          -0.1905,
          0.6206,
          null,
          0.6206,
          -0.1847,
          null
         ]
        }
       ],
       "layout": {
        "height": 650,
        "margin": {
         "t": 100
        },
        "scene": {
         "xaxis": {
          "showbackground": false,
          "showgrid": false,
          "showline": false,
          "showticklabels": false,
          "title": {
           "text": ""
          },
          "zeroline": false
         },
         "yaxis": {
          "showbackground": false,
          "showgrid": false,
          "showline": false,
          "showticklabels": false,
          "title": {
           "text": ""
          },
          "zeroline": false
         },
         "zaxis": {
          "showbackground": false,
          "showgrid": false,
          "showline": false,
          "showticklabels": false,
          "title": {
           "text": ""
          },
          "zeroline": false
         }
        },
        "showlegend": false,
        "template": {
         "data": {
          "bar": [
           {
            "error_x": {
             "color": "#2a3f5f"
            },
            "error_y": {
             "color": "#2a3f5f"
            },
            "marker": {
             "line": {
              "color": "#E5ECF6",
              "width": 0.5
             },
             "pattern": {
              "fillmode": "overlay",
              "size": 10,
              "solidity": 0.2
             }
            },
            "type": "bar"
           }
          ],
          "barpolar": [
           {
            "marker": {
             "line": {
              "color": "#E5ECF6",
              "width": 0.5
             },
             "pattern": {
              "fillmode": "overlay",
              "size": 10,
              "solidity": 0.2
             }
            },
            "type": "barpolar"
           }
          ],
          "carpet": [
           {
            "aaxis": {
             "endlinecolor": "#2a3f5f",
             "gridcolor": "white",
             "linecolor": "white",
             "minorgridcolor": "white",
             "startlinecolor": "#2a3f5f"
            },
            "baxis": {
             "endlinecolor": "#2a3f5f",
             "gridcolor": "white",
             "linecolor": "white",
             "minorgridcolor": "white",
             "startlinecolor": "#2a3f5f"
            },
            "type": "carpet"
           }
          ],
          "choropleth": [
           {
            "colorbar": {
             "outlinewidth": 0,
             "ticks": ""
            },
            "type": "choropleth"
           }
          ],
          "contour": [
           {
            "colorbar": {
             "outlinewidth": 0,
             "ticks": ""
            },
            "colorscale": [
             [
              0,
              "#0d0887"
             ],
             [
              0.1111111111111111,
              "#46039f"
             ],
             [
              0.2222222222222222,
              "#7201a8"
             ],
             [
              0.3333333333333333,
              "#9c179e"
             ],
             [
              0.4444444444444444,
              "#bd3786"
             ],
             [
              0.5555555555555556,
              "#d8576b"
             ],
             [
              0.6666666666666666,
              "#ed7953"
             ],
             [
              0.7777777777777778,
              "#fb9f3a"
             ],
             [
              0.8888888888888888,
              "#fdca26"
             ],
             [
              1,
              "#f0f921"
             ]
            ],
            "type": "contour"
           }
          ],
          "contourcarpet": [
           {
            "colorbar": {
             "outlinewidth": 0,
             "ticks": ""
            },
            "type": "contourcarpet"
           }
          ],
          "heatmap": [
           {
            "colorbar": {
             "outlinewidth": 0,
             "ticks": ""
            },
            "colorscale": [
             [
              0,
              "#0d0887"
             ],
             [
              0.1111111111111111,
              "#46039f"
             ],
             [
              0.2222222222222222,
              "#7201a8"
             ],
             [
              0.3333333333333333,
              "#9c179e"
             ],
             [
              0.4444444444444444,
              "#bd3786"
             ],
             [
              0.5555555555555556,
              "#d8576b"
             ],
             [
              0.6666666666666666,
              "#ed7953"
             ],
             [
              0.7777777777777778,
              "#fb9f3a"
             ],
             [
              0.8888888888888888,
              "#fdca26"
             ],
             [
              1,
              "#f0f921"
             ]
            ],
            "type": "heatmap"
           }
          ],
          "heatmapgl": [
           {
            "colorbar": {
             "outlinewidth": 0,
             "ticks": ""
            },
            "colorscale": [
             [
              0,
              "#0d0887"
             ],
             [
              0.1111111111111111,
              "#46039f"
             ],
             [
              0.2222222222222222,
              "#7201a8"
             ],
             [
              0.3333333333333333,
              "#9c179e"
             ],
             [
              0.4444444444444444,
              "#bd3786"
             ],
             [
              0.5555555555555556,
              "#d8576b"
             ],
             [
              0.6666666666666666,
              "#ed7953"
             ],
             [
              0.7777777777777778,
              "#fb9f3a"
             ],
             [
              0.8888888888888888,
              "#fdca26"
             ],
             [
              1,
              "#f0f921"
             ]
            ],
            "type": "heatmapgl"
           }
          ],
          "histogram": [
           {
            "marker": {
             "pattern": {
              "fillmode": "overlay",
              "size": 10,
              "solidity": 0.2
             }
            },
            "type": "histogram"
           }
          ],
          "histogram2d": [
           {
            "colorbar": {
             "outlinewidth": 0,
             "ticks": ""
            },
            "colorscale": [
             [
              0,
              "#0d0887"
             ],
             [
              0.1111111111111111,
              "#46039f"
             ],
             [
              0.2222222222222222,
              "#7201a8"
             ],
             [
              0.3333333333333333,
              "#9c179e"
             ],
             [
              0.4444444444444444,
              "#bd3786"
             ],
             [
              0.5555555555555556,
              "#d8576b"
             ],
             [
              0.6666666666666666,
              "#ed7953"
             ],
             [
              0.7777777777777778,
              "#fb9f3a"
             ],
             [
              0.8888888888888888,
              "#fdca26"
             ],
             [
              1,
              "#f0f921"
             ]
            ],
            "type": "histogram2d"
           }
          ],
          "histogram2dcontour": [
           {
            "colorbar": {
             "outlinewidth": 0,
             "ticks": ""
            },
            "colorscale": [
             [
              0,
              "#0d0887"
             ],
             [
              0.1111111111111111,
              "#46039f"
             ],
             [
              0.2222222222222222,
              "#7201a8"
             ],
             [
              0.3333333333333333,
              "#9c179e"
             ],
             [
              0.4444444444444444,
              "#bd3786"
             ],
             [
              0.5555555555555556,
              "#d8576b"
             ],
             [
              0.6666666666666666,
              "#ed7953"
             ],
             [
              0.7777777777777778,
              "#fb9f3a"
             ],
             [
              0.8888888888888888,
              "#fdca26"
             ],
             [
              1,
              "#f0f921"
             ]
            ],
            "type": "histogram2dcontour"
           }
          ],
          "mesh3d": [
           {
            "colorbar": {
             "outlinewidth": 0,
             "ticks": ""
            },
            "type": "mesh3d"
           }
          ],
          "parcoords": [
           {
            "line": {
             "colorbar": {
              "outlinewidth": 0,
              "ticks": ""
             }
            },
            "type": "parcoords"
           }
          ],
          "pie": [
           {
            "automargin": true,
            "type": "pie"
           }
          ],
          "scatter": [
           {
            "marker": {
             "colorbar": {
              "outlinewidth": 0,
              "ticks": ""
             }
            },
            "type": "scatter"
           }
          ],
          "scatter3d": [
           {
            "line": {
             "colorbar": {
              "outlinewidth": 0,
              "ticks": ""
             }
            },
            "marker": {
             "colorbar": {
              "outlinewidth": 0,
              "ticks": ""
             }
            },
            "type": "scatter3d"
           }
          ],
          "scattercarpet": [
           {
            "marker": {
             "colorbar": {
              "outlinewidth": 0,
              "ticks": ""
             }
            },
            "type": "scattercarpet"
           }
          ],
          "scattergeo": [
           {
            "marker": {
             "colorbar": {
              "outlinewidth": 0,
              "ticks": ""
             }
            },
            "type": "scattergeo"
           }
          ],
          "scattergl": [
           {
            "marker": {
             "colorbar": {
              "outlinewidth": 0,
              "ticks": ""
             }
            },
            "type": "scattergl"
           }
          ],
          "scattermapbox": [
           {
            "marker": {
             "colorbar": {
              "outlinewidth": 0,
              "ticks": ""
             }
            },
            "type": "scattermapbox"
           }
          ],
          "scatterpolar": [
           {
            "marker": {
             "colorbar": {
              "outlinewidth": 0,
              "ticks": ""
             }
            },
            "type": "scatterpolar"
           }
          ],
          "scatterpolargl": [
           {
            "marker": {
             "colorbar": {
              "outlinewidth": 0,
              "ticks": ""
             }
            },
            "type": "scatterpolargl"
           }
          ],
          "scatterternary": [
           {
            "marker": {
             "colorbar": {
              "outlinewidth": 0,
              "ticks": ""
             }
            },
            "type": "scatterternary"
           }
          ],
          "surface": [
           {
            "colorbar": {
             "outlinewidth": 0,
             "ticks": ""
            },
            "colorscale": [
             [
              0,
              "#0d0887"
             ],
             [
              0.1111111111111111,
              "#46039f"
             ],
             [
              0.2222222222222222,
              "#7201a8"
             ],
             [
              0.3333333333333333,
              "#9c179e"
             ],
             [
              0.4444444444444444,
              "#bd3786"
             ],
             [
              0.5555555555555556,
              "#d8576b"
             ],
             [
              0.6666666666666666,
              "#ed7953"
             ],
             [
              0.7777777777777778,
              "#fb9f3a"
             ],
             [
              0.8888888888888888,
              "#fdca26"
             ],
             [
              1,
              "#f0f921"
             ]
            ],
            "type": "surface"
           }
          ],
          "table": [
           {
            "cells": {
             "fill": {
              "color": "#EBF0F8"
             },
             "line": {
              "color": "white"
             }
            },
            "header": {
             "fill": {
              "color": "#C8D4E3"
             },
             "line": {
              "color": "white"
             }
            },
            "type": "table"
           }
          ]
         },
         "layout": {
          "annotationdefaults": {
           "arrowcolor": "#2a3f5f",
           "arrowhead": 0,
           "arrowwidth": 1
          },
          "autotypenumbers": "strict",
          "coloraxis": {
           "colorbar": {
            "outlinewidth": 0,
            "ticks": ""
           }
          },
          "colorscale": {
           "diverging": [
            [
             0,
             "#8e0152"
            ],
            [
             0.1,
             "#c51b7d"
            ],
            [
             0.2,
             "#de77ae"
            ],
            [
             0.3,
             "#f1b6da"
            ],
            [
             0.4,
             "#fde0ef"
            ],
            [
             0.5,
             "#f7f7f7"
            ],
            [
             0.6,
             "#e6f5d0"
            ],
            [
             0.7,
             "#b8e186"
            ],
            [
             0.8,
             "#7fbc41"
            ],
            [
             0.9,
             "#4d9221"
            ],
            [
             1,
             "#276419"
            ]
           ],
           "sequential": [
            [
             0,
             "#0d0887"
            ],
            [
             0.1111111111111111,
             "#46039f"
            ],
            [
             0.2222222222222222,
             "#7201a8"
            ],
            [
             0.3333333333333333,
             "#9c179e"
            ],
            [
             0.4444444444444444,
             "#bd3786"
            ],
            [
             0.5555555555555556,
             "#d8576b"
            ],
            [
             0.6666666666666666,
             "#ed7953"
            ],
            [
             0.7777777777777778,
             "#fb9f3a"
            ],
            [
             0.8888888888888888,
             "#fdca26"
            ],
            [
             1,
             "#f0f921"
            ]
           ],
           "sequentialminus": [
            [
             0,
             "#0d0887"
            ],
            [
             0.1111111111111111,
             "#46039f"
            ],
            [
             0.2222222222222222,
             "#7201a8"
            ],
            [
             0.3333333333333333,
             "#9c179e"
            ],
            [
             0.4444444444444444,
             "#bd3786"
            ],
            [
             0.5555555555555556,
             "#d8576b"
            ],
            [
             0.6666666666666666,
             "#ed7953"
            ],
            [
             0.7777777777777778,
             "#fb9f3a"
            ],
            [
             0.8888888888888888,
             "#fdca26"
            ],
            [
             1,
             "#f0f921"
            ]
           ]
          },
          "colorway": [
           "#636efa",
           "#EF553B",
           "#00cc96",
           "#ab63fa",
           "#FFA15A",
           "#19d3f3",
           "#FF6692",
           "#B6E880",
           "#FF97FF",
           "#FECB52"
          ],
          "font": {
           "color": "#2a3f5f"
          },
          "geo": {
           "bgcolor": "white",
           "lakecolor": "white",
           "landcolor": "#E5ECF6",
           "showlakes": true,
           "showland": true,
           "subunitcolor": "white"
          },
          "hoverlabel": {
           "align": "left"
          },
          "hovermode": "closest",
          "mapbox": {
           "style": "light"
          },
          "paper_bgcolor": "white",
          "plot_bgcolor": "#E5ECF6",
          "polar": {
           "angularaxis": {
            "gridcolor": "white",
            "linecolor": "white",
            "ticks": ""
           },
           "bgcolor": "#E5ECF6",
           "radialaxis": {
            "gridcolor": "white",
            "linecolor": "white",
            "ticks": ""
           }
          },
          "scene": {
           "xaxis": {
            "backgroundcolor": "#E5ECF6",
            "gridcolor": "white",
            "gridwidth": 2,
            "linecolor": "white",
            "showbackground": true,
            "ticks": "",
            "zerolinecolor": "white"
           },
           "yaxis": {
            "backgroundcolor": "#E5ECF6",
            "gridcolor": "white",
            "gridwidth": 2,
            "linecolor": "white",
            "showbackground": true,
            "ticks": "",
            "zerolinecolor": "white"
           },
           "zaxis": {
            "backgroundcolor": "#E5ECF6",
            "gridcolor": "white",
            "gridwidth": 2,
            "linecolor": "white",
            "showbackground": true,
            "ticks": "",
            "zerolinecolor": "white"
           }
          },
          "shapedefaults": {
           "line": {
            "color": "#2a3f5f"
           }
          },
          "ternary": {
           "aaxis": {
            "gridcolor": "white",
            "linecolor": "white",
            "ticks": ""
           },
           "baxis": {
            "gridcolor": "white",
            "linecolor": "white",
            "ticks": ""
           },
           "bgcolor": "#E5ECF6",
           "caxis": {
            "gridcolor": "white",
            "linecolor": "white",
            "ticks": ""
           }
          },
          "title": {
           "x": 0.05
          },
          "xaxis": {
           "automargin": true,
           "gridcolor": "white",
           "linecolor": "white",
           "ticks": "",
           "title": {
            "standoff": 15
           },
           "zerolinecolor": "white",
           "zerolinewidth": 2
          },
          "yaxis": {
           "automargin": true,
           "gridcolor": "white",
           "linecolor": "white",
           "ticks": "",
           "title": {
            "standoff": 15
           },
           "zerolinecolor": "white",
           "zerolinewidth": 2
          }
         }
        },
        "width": 620
       }
      }
     },
     "metadata": {},
     "output_type": "display_data"
    }
   ],
   "source": [
    "gm.plotly_molecular_graph(graph)"
   ]
  },
  {
   "cell_type": "markdown",
   "metadata": {},
   "source": [
    "## Adding Features\n",
    "Graphein can add lots of features to graph nodes and edges from RDKit\n",
    "\n",
    "### Node Features\n",
    "\n",
    "\n"
   ]
  },
  {
   "cell_type": "code",
   "execution_count": 24,
   "metadata": {},
   "outputs": [
    {
     "name": "stderr",
     "output_type": "stream",
     "text": [
      "INFO:graphein.molecule.edges.distance:Found: 3 KNN edges\n",
      "INFO:graphein.molecule.edges.distance:Found: 9 distance edges for radius 5.0\n"
     ]
    },
    {
     "name": "stdout",
     "output_type": "stream",
     "text": [
      "{'atomic_num': 6, 'element': 'C', 'rdmol_atom': <rdkit.Chem.rdchem.Atom object at 0x7fbf30bdeac0>, 'coords': array([ 0.9862, -0.257 , -0.1905]), 'atom_type_one_hot': array([1, 0, 0, 0, 0, 0, 0, 0, 0, 0, 0]), 'mass': 12.011, 'degree': 1, 'total_degree': 4, 'total_valence': 4, 'explicit_valence': 4, 'implicit_valence': 0, 'num_explicit_h': 3, 'num_implicit_h': 0, 'total_num_h': 3, 'num_radical_electrons': 0, 'formal_charge': 0, 'hybridization': rdkit.Chem.rdchem.HybridizationType.SP3, 'is_aromatic': False, 'is_isotope': 0, 'is_ring': False, 'chiral_tag': rdkit.Chem.rdchem.ChiralType.CHI_UNSPECIFIED, 'is_ring_5': False, 'is_ring_7': False}\n",
      "{'atomic_num': 6, 'element': 'C', 'rdmol_atom': <rdkit.Chem.rdchem.Atom object at 0x7fbf30bde1c0>, 'coords': array([-0.2052,  0.2236,  0.6206]), 'atom_type_one_hot': array([1, 0, 0, 0, 0, 0, 0, 0, 0, 0, 0]), 'mass': 12.011, 'degree': 2, 'total_degree': 4, 'total_valence': 4, 'explicit_valence': 4, 'implicit_valence': 0, 'num_explicit_h': 2, 'num_implicit_h': 0, 'total_num_h': 2, 'num_radical_electrons': 0, 'formal_charge': 0, 'hybridization': rdkit.Chem.rdchem.HybridizationType.SP3, 'is_aromatic': False, 'is_isotope': 0, 'is_ring': False, 'chiral_tag': rdkit.Chem.rdchem.ChiralType.CHI_UNSPECIFIED, 'is_ring_5': False, 'is_ring_7': False}\n",
      "{'atomic_num': 7, 'element': 'N', 'rdmol_atom': <rdkit.Chem.rdchem.Atom object at 0x7fbf30bde460>, 'coords': array([-1.4201,  0.2357, -0.1847]), 'atom_type_one_hot': array([0, 0, 0, 1, 0, 0, 0, 0, 0, 0, 0]), 'mass': 14.007, 'degree': 1, 'total_degree': 3, 'total_valence': 3, 'explicit_valence': 3, 'implicit_valence': 0, 'num_explicit_h': 2, 'num_implicit_h': 0, 'total_num_h': 2, 'num_radical_electrons': 0, 'formal_charge': 0, 'hybridization': rdkit.Chem.rdchem.HybridizationType.SP3, 'is_aromatic': False, 'is_isotope': 0, 'is_ring': False, 'chiral_tag': rdkit.Chem.rdchem.ChiralType.CHI_UNSPECIFIED, 'is_ring_5': False, 'is_ring_7': False}\n"
     ]
    }
   ],
   "source": [
    "from functools import partial\n",
    "\n",
    "config = gm.MoleculeGraphConfig(\n",
    "    node_metadata_functions=[\n",
    "        gm.atom_type_one_hot,\n",
    "        gm.atomic_mass,\n",
    "        gm.degree,\n",
    "        gm.total_degree,\n",
    "        gm.total_valence,\n",
    "        gm.explicit_valence,\n",
    "        gm.implicit_valence,\n",
    "        gm.num_explicit_h,\n",
    "        gm.num_implicit_h,\n",
    "        gm.total_num_h,\n",
    "        gm.num_radical_electrons,\n",
    "        gm.formal_charge,\n",
    "        gm.hybridization,\n",
    "        gm.is_aromatic,\n",
    "        gm.is_isotope,\n",
    "        gm.is_ring,\n",
    "        gm.chiral_tag,\n",
    "        partial(gm.is_ring_size, ring_size=5),\n",
    "        partial(gm.is_ring_size, ring_size=7)\n",
    "    ]\n",
    ")\n",
    "graph = gm.construct_graph(mol2_path=MOL2_PATH, config=config)\n",
    "\n",
    "for n, d in graph.nodes(data=True):\n",
    "    print(d)"
   ]
  },
  {
   "cell_type": "markdown",
   "metadata": {},
   "source": [
    "### Edge Features"
   ]
  },
  {
   "cell_type": "code",
   "execution_count": 25,
   "metadata": {},
   "outputs": [
    {
     "name": "stderr",
     "output_type": "stream",
     "text": [
      "INFO:graphein.molecule.edges.distance:Found: 3 KNN edges\n",
      "INFO:graphein.molecule.edges.distance:Found: 9 distance edges for radius 5.0\n",
      "DEBUG:graphein.molecule.features.edges.bonds:No RDKit bond found on edge C:0-C:0\n",
      "DEBUG:graphein.molecule.features.edges.bonds:No RDKit bond found on edge C:0-N:2\n",
      "DEBUG:graphein.molecule.features.edges.bonds:No RDKit bond found on edge C:1-C:1\n",
      "DEBUG:graphein.molecule.features.edges.bonds:No RDKit bond found on edge N:2-N:2\n",
      "DEBUG:graphein.molecule.features.edges.bonds:No RDKit bond found on edge C:0-C:0\n",
      "DEBUG:graphein.molecule.features.edges.bonds:No RDKit bond found on edge C:0-N:2\n",
      "DEBUG:graphein.molecule.features.edges.bonds:No RDKit bond found on edge C:1-C:1\n",
      "DEBUG:graphein.molecule.features.edges.bonds:No RDKit bond found on edge N:2-N:2\n",
      "DEBUG:graphein.molecule.features.edges.bonds:No RDKit bond found on edge C:0-C:0\n",
      "DEBUG:graphein.molecule.features.edges.bonds:No RDKit bond found on edge C:0-N:2\n",
      "DEBUG:graphein.molecule.features.edges.bonds:No RDKit bond found on edge C:1-C:1\n",
      "DEBUG:graphein.molecule.features.edges.bonds:No RDKit bond found on edge N:2-N:2\n",
      "DEBUG:graphein.molecule.features.edges.bonds:No RDKit bond found on edge C:0-C:0\n",
      "DEBUG:graphein.molecule.features.edges.bonds:No RDKit bond found on edge C:0-N:2\n",
      "DEBUG:graphein.molecule.features.edges.bonds:No RDKit bond found on edge C:1-C:1\n",
      "DEBUG:graphein.molecule.features.edges.bonds:No RDKit bond found on edge N:2-N:2\n",
      "DEBUG:graphein.molecule.features.edges.bonds:No RDKit bond found on edge C:0-C:0\n",
      "DEBUG:graphein.molecule.features.edges.bonds:No RDKit bond found on edge C:0-N:2\n",
      "DEBUG:graphein.molecule.features.edges.bonds:No RDKit bond found on edge C:1-C:1\n",
      "DEBUG:graphein.molecule.features.edges.bonds:No RDKit bond found on edge N:2-N:2\n",
      "DEBUG:graphein.molecule.features.edges.bonds:No RDKit bond found on edge C:0-C:0\n",
      "DEBUG:graphein.molecule.features.edges.bonds:No RDKit bond found on edge C:0-N:2\n",
      "DEBUG:graphein.molecule.features.edges.bonds:No RDKit bond found on edge C:1-C:1\n",
      "DEBUG:graphein.molecule.features.edges.bonds:No RDKit bond found on edge N:2-N:2\n",
      "DEBUG:graphein.molecule.features.edges.bonds:No RDKit bond found on edge C:0-C:0\n",
      "DEBUG:graphein.molecule.features.edges.bonds:No RDKit bond found on edge C:0-N:2\n",
      "DEBUG:graphein.molecule.features.edges.bonds:No RDKit bond found on edge C:1-C:1\n",
      "DEBUG:graphein.molecule.features.edges.bonds:No RDKit bond found on edge N:2-N:2\n"
     ]
    },
    {
     "name": "stdout",
     "output_type": "stream",
     "text": [
      "{'kind': {'distance_threshold', 'fully_connected'}, 'bond_type': None, 'aromatic': None, 'conjugated': None, 'ring': None, 'bond_stereo': None, 'ring_size_5': None, 'ring_size_7': None}\n",
      "{'kind': {'bond', 'distance_threshold', 'k_nn_1', 'fully_connected'}, 'bond': <rdkit.Chem.rdchem.Bond object at 0x7fbf30c08520>, 'bond_type': rdkit.Chem.rdchem.BondType.SINGLE, '_aromatic': False, 'conjugated': False, 'ring': False, 'bond_stereo': rdkit.Chem.rdchem.BondStereo.STEREONONE, 'ring_size_5': False, 'ring_size_7': False}\n",
      "{'kind': {'distance_threshold', 'fully_connected'}, 'bond_type': None, 'aromatic': None, 'conjugated': None, 'ring': None, 'bond_stereo': None, 'ring_size_5': None, 'ring_size_7': None}\n",
      "{'kind': {'distance_threshold', 'fully_connected'}, 'bond_type': None, 'aromatic': None, 'conjugated': None, 'ring': None, 'bond_stereo': None, 'ring_size_5': None, 'ring_size_7': None}\n",
      "{'kind': {'bond', 'distance_threshold', 'k_nn_1', 'fully_connected'}, 'bond': <rdkit.Chem.rdchem.Bond object at 0x7fbf30c08700>, 'bond_type': rdkit.Chem.rdchem.BondType.SINGLE, '_aromatic': False, 'conjugated': False, 'ring': False, 'bond_stereo': rdkit.Chem.rdchem.BondStereo.STEREONONE, 'ring_size_5': False, 'ring_size_7': False}\n",
      "{'kind': {'distance_threshold', 'fully_connected'}, 'bond_type': None, 'aromatic': None, 'conjugated': None, 'ring': None, 'bond_stereo': None, 'ring_size_5': None, 'ring_size_7': None}\n"
     ]
    }
   ],
   "source": [
    "config = gm.MoleculeGraphConfig(\n",
    "    edge_metadata_functions=[\n",
    "        gm.add_bond_type,\n",
    "        gm.bond_is_aromatic,\n",
    "        gm.bond_is_conjugated,\n",
    "        gm.bond_is_in_ring,\n",
    "        gm.bond_stereo,\n",
    "        partial(gm.bond_is_in_ring_size, ring_size=5),\n",
    "        partial(gm.bond_is_in_ring_size, ring_size=7)\n",
    "    ]\n",
    ")\n",
    "graph = gm.construct_graph(mol2_path=MOL2_PATH, config=config)\n",
    "\n",
    "for u, v, d in graph.edges(data=True):\n",
    "    print(d)"
   ]
  },
  {
   "cell_type": "markdown",
   "metadata": {},
   "source": [
    "### Graph Features\n",
    "Global descriptors of the molecule computed by RDKit can be added to the graph too!"
   ]
  },
  {
   "cell_type": "code",
   "execution_count": 26,
   "metadata": {},
   "outputs": [
    {
     "name": "stderr",
     "output_type": "stream",
     "text": [
      "INFO:graphein.molecule.edges.distance:Found: 3 KNN edges\n",
      "INFO:graphein.molecule.edges.distance:Found: 9 distance edges for radius 5.0\n"
     ]
    },
    {
     "name": "stdout",
     "output_type": "stream",
     "text": [
      "{'name': 'short_test', 'rdmol': <rdkit.Chem.rdchem.Mol object at 0x7fbf6087ad60>, 'coords': array([[ 0.9862, -0.257 , -0.1905],\n",
      "       [-0.2052,  0.2236,  0.6206],\n",
      "       [-1.4201,  0.2357, -0.1847]]), 'smiles': 'CCN', 'config': MoleculeGraphConfig(verbose=False, add_hs=False, edge_construction_functions=[<function add_fully_connected_edges at 0x7fbf40c425e0>, <function add_k_nn_edges at 0x7fbf40c42670>, <function add_distance_threshold at 0x7fbf40c42550>, <function add_atom_bonds at 0x7fbf40c420d0>], node_metadata_functions=[<function atom_type_one_hot at 0x7fbf8071b9d0>], edge_metadata_functions=None, graph_metadata_functions=[<function mol_descriptors at 0x7fbf40c42b80>]), 'MaxEStateIndex': 4.847222222222222, 'MinEStateIndex': 0.75, 'MaxAbsEStateIndex': 4.847222222222222, 'MinAbsEStateIndex': 0.75, 'qed': 0.40623709538988323, 'MolWt': 45.084999999999994, 'HeavyAtomMolWt': 38.028999999999996, 'ExactMolWt': 45.057849223999995, 'NumValenceElectrons': 20, 'NumRadicalElectrons': 0, 'MaxPartialCharge': -0.010576265829206462, 'MinPartialCharge': -0.3307484184390755, 'MaxAbsPartialCharge': 0.3307484184390755, 'MinAbsPartialCharge': 0.010576265829206462, 'FpDensityMorgan1': 2.0, 'FpDensityMorgan2': 2.0, 'FpDensityMorgan3': 2.0, 'BCUT2D_MWHI': 14.489350501685236, 'BCUT2D_MWLOW': 10.840990590774261, 'BCUT2D_CHGHI': 1.3223586846717188, 'BCUT2D_CHGLO': -1.5255036511694584, 'BCUT2D_LOGPHI': 1.1976547781828029, 'BCUT2D_LOGPLOW': -1.871495321468652, 'BCUT2D_MRHI': 3.9983956644101193, 'BCUT2D_MRLOW': 1.1354269715888405, 'BalabanJ': 1.6329931618554523, 'BertzCT': 2.7548875021634682, 'Chi0': 2.7071067811865475, 'Chi0n': 2.284457050376173, 'Chi0v': 2.284457050376173, 'Chi1': 1.4142135623730951, 'Chi1n': 1.1153550716504106, 'Chi1v': 1.1153550716504106, 'Chi2n': 0.408248290463863, 'Chi2v': 0.408248290463863, 'Chi3n': 0.0, 'Chi3v': 0.0, 'Chi4n': 0.0, 'Chi4v': 0.0, 'HallKierAlpha': -0.04, 'Ipc': 2.7548875021634682, 'Kappa1': 2.9600000000000004, 'Kappa2': 1.96, 'Kappa3': 1.9600000000000033, 'LabuteASA': 20.444083839238875, 'PEOE_VSA1': 5.733667477162185, 'PEOE_VSA10': 0.0, 'PEOE_VSA11': 0.0, 'PEOE_VSA12': 0.0, 'PEOE_VSA13': 0.0, 'PEOE_VSA14': 0.0, 'PEOE_VSA2': 0.0, 'PEOE_VSA3': 0.0, 'PEOE_VSA4': 0.0, 'PEOE_VSA5': 0.0, 'PEOE_VSA6': 6.923737199690624, 'PEOE_VSA7': 6.544756405912575, 'PEOE_VSA8': 0.0, 'PEOE_VSA9': 0.0, 'SMR_VSA1': 0.0, 'SMR_VSA10': 0.0, 'SMR_VSA2': 0.0, 'SMR_VSA3': 0.0, 'SMR_VSA4': 5.733667477162185, 'SMR_VSA5': 6.923737199690624, 'SMR_VSA6': 6.544756405912575, 'SMR_VSA7': 0.0, 'SMR_VSA8': 0.0, 'SMR_VSA9': 0.0, 'SlogP_VSA1': 5.733667477162185, 'SlogP_VSA10': 0.0, 'SlogP_VSA11': 0.0, 'SlogP_VSA12': 0.0, 'SlogP_VSA2': 6.544756405912575, 'SlogP_VSA3': 0.0, 'SlogP_VSA4': 0.0, 'SlogP_VSA5': 6.923737199690624, 'SlogP_VSA6': 0.0, 'SlogP_VSA7': 0.0, 'SlogP_VSA8': 0.0, 'SlogP_VSA9': 0.0, 'TPSA': 26.02, 'EState_VSA1': 0.0, 'EState_VSA10': 0.0, 'EState_VSA11': 0.0, 'EState_VSA2': 0.0, 'EState_VSA3': 0.0, 'EState_VSA4': 6.544756405912575, 'EState_VSA5': 0.0, 'EState_VSA6': 0.0, 'EState_VSA7': 6.923737199690624, 'EState_VSA8': 0.0, 'EState_VSA9': 5.733667477162185, 'VSA_EState1': 0.0, 'VSA_EState10': 0.0, 'VSA_EState2': 0.0, 'VSA_EState3': 0.0, 'VSA_EState4': 4.847222222222222, 'VSA_EState5': 0.0, 'VSA_EState6': 0.0, 'VSA_EState7': 0.0, 'VSA_EState8': 2.6527777777777777, 'VSA_EState9': 0.0, 'FractionCSP3': 1.0, 'HeavyAtomCount': 3, 'NHOHCount': 2, 'NOCount': 1, 'NumAliphaticCarbocycles': 0, 'NumAliphaticHeterocycles': 0, 'NumAliphaticRings': 0, 'NumAromaticCarbocycles': 0, 'NumAromaticHeterocycles': 0, 'NumAromaticRings': 0, 'NumHAcceptors': 1, 'NumHDonors': 1, 'NumHeteroatoms': 1, 'NumRotatableBonds': 0, 'NumSaturatedCarbocycles': 0, 'NumSaturatedHeterocycles': 0, 'NumSaturatedRings': 0, 'RingCount': 0, 'MolLogP': -0.03499999999999981, 'MolMR': 14.728400000000002, 'fr_Al_COO': 0, 'fr_Al_OH': 0, 'fr_Al_OH_noTert': 0, 'fr_ArN': 0, 'fr_Ar_COO': 0, 'fr_Ar_N': 0, 'fr_Ar_NH': 0, 'fr_Ar_OH': 0, 'fr_COO': 0, 'fr_COO2': 0, 'fr_C_O': 0, 'fr_C_O_noCOO': 0, 'fr_C_S': 0, 'fr_HOCCN': 0, 'fr_Imine': 0, 'fr_NH0': 0, 'fr_NH1': 0, 'fr_NH2': 1, 'fr_N_O': 0, 'fr_Ndealkylation1': 0, 'fr_Ndealkylation2': 0, 'fr_Nhpyrrole': 0, 'fr_SH': 0, 'fr_aldehyde': 0, 'fr_alkyl_carbamate': 0, 'fr_alkyl_halide': 0, 'fr_allylic_oxid': 0, 'fr_amide': 0, 'fr_amidine': 0, 'fr_aniline': 0, 'fr_aryl_methyl': 0, 'fr_azide': 0, 'fr_azo': 0, 'fr_barbitur': 0, 'fr_benzene': 0, 'fr_benzodiazepine': 0, 'fr_bicyclic': 0, 'fr_diazo': 0, 'fr_dihydropyridine': 0, 'fr_epoxide': 0, 'fr_ester': 0, 'fr_ether': 0, 'fr_furan': 0, 'fr_guanido': 0, 'fr_halogen': 0, 'fr_hdrzine': 0, 'fr_hdrzone': 0, 'fr_imidazole': 0, 'fr_imide': 0, 'fr_isocyan': 0, 'fr_isothiocyan': 0, 'fr_ketone': 0, 'fr_ketone_Topliss': 0, 'fr_lactam': 0, 'fr_lactone': 0, 'fr_methoxy': 0, 'fr_morpholine': 0, 'fr_nitrile': 0, 'fr_nitro': 0, 'fr_nitro_arom': 0, 'fr_nitro_arom_nonortho': 0, 'fr_nitroso': 0, 'fr_oxazole': 0, 'fr_oxime': 0, 'fr_para_hydroxylation': 0, 'fr_phenol': 0, 'fr_phenol_noOrthoHbond': 0, 'fr_phos_acid': 0, 'fr_phos_ester': 0, 'fr_piperdine': 0, 'fr_piperzine': 0, 'fr_priamide': 0, 'fr_prisulfonamd': 0, 'fr_pyridine': 0, 'fr_quatN': 0, 'fr_sulfide': 0, 'fr_sulfonamd': 0, 'fr_sulfone': 0, 'fr_term_acetylene': 0, 'fr_tetrazole': 0, 'fr_thiazole': 0, 'fr_thiocyan': 0, 'fr_thiophene': 0, 'fr_unbrch_alkane': 0, 'fr_urea': 0}\n"
     ]
    }
   ],
   "source": [
    "config = gm.MoleculeGraphConfig(\n",
    "    graph_metadata_functions=[\n",
    "        gm.mol_descriptors\n",
    "    ]\n",
    ")\n",
    "graph = gm.construct_graph(mol2_path=MOL2_PATH, config=config)\n",
    "\n",
    "print(graph.graph)"
   ]
  }
 ],
 "metadata": {
  "interpreter": {
   "hash": "0ab7f988027852efc1ebacd06db3f130eb65d2a20cb6a366311359132c20a952"
  },
  "kernelspec": {
   "display_name": "Python 3.8.13 ('graphein')",
   "language": "python",
   "name": "python3"
  },
  "language_info": {
   "codemirror_mode": {
    "name": "ipython",
    "version": 3
   },
   "file_extension": ".py",
   "mimetype": "text/x-python",
   "name": "python",
   "nbconvert_exporter": "python",
   "pygments_lexer": "ipython3",
   "version": "3.8.12"
  },
  "orig_nbformat": 4
 },
 "nbformat": 4,
 "nbformat_minor": 2
}
